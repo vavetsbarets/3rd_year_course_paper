{
 "cells": [
  {
   "cell_type": "code",
   "execution_count": 1,
   "id": "1eedb574",
   "metadata": {},
   "outputs": [],
   "source": [
    "import pandas as pd\n",
    "import numpy as np\n",
    "import random\n",
    "import matplotlib.pyplot as plt\n",
    "import scipy\n",
    "import re"
   ]
  },
  {
   "cell_type": "code",
   "execution_count": 2,
   "id": "fce8c17e",
   "metadata": {},
   "outputs": [],
   "source": [
    "# setting ggplot style for the graphs\n",
    "plt.style.use('ggplot')"
   ]
  },
  {
   "cell_type": "markdown",
   "id": "fe2ef1fc",
   "metadata": {},
   "source": [
    "# Some data generating process"
   ]
  },
  {
   "cell_type": "code",
   "execution_count": 3,
   "id": "f392dbf6",
   "metadata": {},
   "outputs": [],
   "source": [
    "np.random.seed(100)\n",
    "# NUMBER OF OBSERVATIONS!!!!!!!!!!!!!!!!!!!!!!!!!!!!!!1\n",
    "obs = 10000\n",
    "# explanatory variables: X\n",
    "x1 = np.random.uniform(-1, 3, obs)\n",
    "x2 = np.random.uniform(-6, 2, obs)\n",
    "x3 = np.random.uniform(8, 14, obs)\n",
    "x4 = np.random.uniform(2, 30, obs)\n",
    "x5 = np.random.uniform(-8, 10, obs)\n",
    "eps = np.random.normal(0, 16, obs)\n",
    "eps1 = np.random.normal(0, 16, obs)\n",
    "# b(X) = Y(0)\n",
    "b_0 = 4 + 6*x1 + 8*x2 - 9*x1*x2 + 3 * np.log(x3) - x4**(1/3) * x3 + eps\n",
    "# propensity score: p(D = 1 | X), bounded from 0 and 1\n",
    "p = (8 + x1 + x2 + x3 * 0.5) / 32\n",
    "# s(X) = Y(1) - Y(0)\n",
    "s_0 = np.maximum(0, x1) - np.log(10 + x2) + np.minimum(0, x1 * x2) + (x4-16)**2 + 6 * x3 + eps1\n",
    "# whether the treatment was assigned (D), given propensity score\n",
    "D = np.random.binomial(1, p)\n",
    "# CREATION OF Y:\n",
    "y = b_0 + s_0 * D"
   ]
  },
  {
   "cell_type": "markdown",
   "id": "daebda52",
   "metadata": {},
   "source": [
    "# Thoughts about DGP\n",
    "### Just in case, whether there are some general data generating processes??? (Surely not)\n",
    "### Just maybe don't forget to make very trivial cases (i.e. s_0 = 0 for several b_0 functions and maybe trivial b_0 as well and have fun with creating other complicated cases)\n",
    "### Think about autocorrelated DGP to replicate some time series as well!!!!!!!\n",
    "### Also U can use logit function, so that p is always bouded by 0 and 1, so that you can make any distributions of X-variables!!!"
   ]
  },
  {
   "cell_type": "markdown",
   "id": "5bebf45b",
   "metadata": {},
   "source": [
    "# Creation of the dataframe, which represents given data\n",
    "## Note, that propensity score is also given, as far as I understood!!!!!"
   ]
  },
  {
   "cell_type": "code",
   "execution_count": 4,
   "id": "d71e3887",
   "metadata": {},
   "outputs": [],
   "source": [
    "df = pd.DataFrame({'x1': x1, 'x2': x2, 'x3': x3, 'x4': x4, 'x5': x5,\n",
    "                   'D': D, 'y': y, 'p': p, 's_0(X)': s_0})\n",
    "propensity_score = p"
   ]
  },
  {
   "cell_type": "code",
   "execution_count": 5,
   "id": "5c815090",
   "metadata": {},
   "outputs": [
    {
     "data": {
      "text/html": [
       "<div>\n",
       "<style scoped>\n",
       "    .dataframe tbody tr th:only-of-type {\n",
       "        vertical-align: middle;\n",
       "    }\n",
       "\n",
       "    .dataframe tbody tr th {\n",
       "        vertical-align: top;\n",
       "    }\n",
       "\n",
       "    .dataframe thead th {\n",
       "        text-align: right;\n",
       "    }\n",
       "</style>\n",
       "<table border=\"1\" class=\"dataframe\">\n",
       "  <thead>\n",
       "    <tr style=\"text-align: right;\">\n",
       "      <th></th>\n",
       "      <th>x1</th>\n",
       "      <th>x2</th>\n",
       "      <th>x3</th>\n",
       "      <th>x4</th>\n",
       "      <th>x5</th>\n",
       "      <th>D</th>\n",
       "      <th>y</th>\n",
       "      <th>p</th>\n",
       "      <th>s_0(X)</th>\n",
       "    </tr>\n",
       "  </thead>\n",
       "  <tbody>\n",
       "    <tr>\n",
       "      <th>0</th>\n",
       "      <td>1.173620</td>\n",
       "      <td>0.945756</td>\n",
       "      <td>13.215007</td>\n",
       "      <td>21.900172</td>\n",
       "      <td>-4.352087</td>\n",
       "      <td>1</td>\n",
       "      <td>101.264151</td>\n",
       "      <td>0.522715</td>\n",
       "      <td>122.180856</td>\n",
       "    </tr>\n",
       "    <tr>\n",
       "      <th>1</th>\n",
       "      <td>0.113478</td>\n",
       "      <td>1.952099</td>\n",
       "      <td>12.554939</td>\n",
       "      <td>5.891914</td>\n",
       "      <td>3.417984</td>\n",
       "      <td>0</td>\n",
       "      <td>-25.246913</td>\n",
       "      <td>0.510720</td>\n",
       "      <td>174.112055</td>\n",
       "    </tr>\n",
       "    <tr>\n",
       "      <th>2</th>\n",
       "      <td>0.698070</td>\n",
       "      <td>1.510368</td>\n",
       "      <td>10.737484</td>\n",
       "      <td>23.936492</td>\n",
       "      <td>-0.982472</td>\n",
       "      <td>1</td>\n",
       "      <td>74.214096</td>\n",
       "      <td>0.486787</td>\n",
       "      <td>91.193897</td>\n",
       "    </tr>\n",
       "    <tr>\n",
       "      <th>3</th>\n",
       "      <td>2.379105</td>\n",
       "      <td>-4.337320</td>\n",
       "      <td>8.360820</td>\n",
       "      <td>17.193009</td>\n",
       "      <td>7.172067</td>\n",
       "      <td>0</td>\n",
       "      <td>46.031407</td>\n",
       "      <td>0.319444</td>\n",
       "      <td>44.794767</td>\n",
       "    </tr>\n",
       "    <tr>\n",
       "      <th>4</th>\n",
       "      <td>-0.981125</td>\n",
       "      <td>-0.274822</td>\n",
       "      <td>13.632987</td>\n",
       "      <td>26.541834</td>\n",
       "      <td>7.123235</td>\n",
       "      <td>1</td>\n",
       "      <td>156.119771</td>\n",
       "      <td>0.423767</td>\n",
       "      <td>212.692860</td>\n",
       "    </tr>\n",
       "  </tbody>\n",
       "</table>\n",
       "</div>"
      ],
      "text/plain": [
       "         x1        x2         x3         x4        x5  D           y  \\\n",
       "0  1.173620  0.945756  13.215007  21.900172 -4.352087  1  101.264151   \n",
       "1  0.113478  1.952099  12.554939   5.891914  3.417984  0  -25.246913   \n",
       "2  0.698070  1.510368  10.737484  23.936492 -0.982472  1   74.214096   \n",
       "3  2.379105 -4.337320   8.360820  17.193009  7.172067  0   46.031407   \n",
       "4 -0.981125 -0.274822  13.632987  26.541834  7.123235  1  156.119771   \n",
       "\n",
       "          p      s_0(X)  \n",
       "0  0.522715  122.180856  \n",
       "1  0.510720  174.112055  \n",
       "2  0.486787   91.193897  \n",
       "3  0.319444   44.794767  \n",
       "4  0.423767  212.692860  "
      ]
     },
     "execution_count": 5,
     "metadata": {},
     "output_type": "execute_result"
    }
   ],
   "source": [
    "df.head()"
   ]
  },
  {
   "cell_type": "code",
   "execution_count": 6,
   "id": "6f0115e7",
   "metadata": {},
   "outputs": [
    {
     "data": {
      "text/plain": [
       "(10000, 9)"
      ]
     },
     "execution_count": 6,
     "metadata": {},
     "output_type": "execute_result"
    }
   ],
   "source": [
    "df.shape"
   ]
  },
  {
   "cell_type": "markdown",
   "id": "e572a414",
   "metadata": {},
   "source": [
    "### Split the data onto 2 parts"
   ]
  },
  {
   "cell_type": "code",
   "execution_count": 7,
   "id": "bf41f3f5",
   "metadata": {},
   "outputs": [],
   "source": [
    "random.seed(100)\n",
    "ind_A = random.sample(range(int(obs)), int(obs / 2))\n",
    "ind_B = list(set(range(int(obs))).difference(set(ind_A)))\n",
    "df_A = df.iloc[ind_A, :].copy()\n",
    "df_B = df.iloc[ind_B, :].copy()"
   ]
  },
  {
   "cell_type": "markdown",
   "id": "c4a6f7ac",
   "metadata": {},
   "source": [
    "# 05/05: Machine learning proxies of b_0(X) and s_0(X): B(X) and S(X). Check 5, 6 page of the paper: so take only data with D = 0 and use ML and this is B(X), then take only data with D = 1 and use ML then S(X) is predict for model where D = 1 - predict for model where D = 0 (given X of course)!!! \n",
    "## But now I understand that it's hard to implement new loss function, since to estimate E(D=1) and E(D=0) requires the estimates of each other, maybe feasible for hyperparameter tuning, but it's computaionally expensive!!!!! (Basically I need function which calculates OLS estimation of BLP using matrix algebra and such coefficient should be maximized!!!! (beta_2))\n",
    "# Also 2-stage idea, which may allow us to implement new loss (corr^2) even in the estimation!!!!!: Estimate Y(D=0) with MSE minimization or other conservative one, then subtract it from Y for data with D = 1 and then estimate S(X) directly, so it is possible to implement new loss in estimation, probably, think about possibility of such idea!!!!! "
   ]
  },
  {
   "cell_type": "markdown",
   "id": "d03e47a4",
   "metadata": {},
   "source": [
    "# UPD: 06/05: Maybe I have just realised that new loss is not possible in estimation. Think about proxy of this new loss which is prop to corr^2!!!\n",
    "## But still it's feasible to do hyperparameter tuning, but computationally expensive, I think!!!"
   ]
  },
  {
   "cell_type": "markdown",
   "id": "dd583f84",
   "metadata": {},
   "source": [
    "## Just realisation of what is in the paper, up to BLP, without new ideas introduced above"
   ]
  },
  {
   "cell_type": "code",
   "execution_count": 8,
   "id": "f5b33eee",
   "metadata": {},
   "outputs": [],
   "source": [
    "from sklearn.ensemble import RandomForestRegressor"
   ]
  },
  {
   "cell_type": "code",
   "execution_count": 9,
   "id": "66c8f09a",
   "metadata": {},
   "outputs": [],
   "source": [
    "Xs = ['x1', 'x2', 'x3', 'x4', 'x5']"
   ]
  },
  {
   "cell_type": "markdown",
   "id": "74460d6c",
   "metadata": {},
   "source": [
    "# Continue tomorrow with just realisation and DON'T FORGET TO SPLIT THE DATA ON TWO PARTS AND FIT WITH FIRST PART AND BLP WITH THE SECOND PART LIKE IN PAPER!!!!!"
   ]
  },
  {
   "cell_type": "code",
   "execution_count": 10,
   "id": "f904e8d9",
   "metadata": {},
   "outputs": [
    {
     "data": {
      "text/html": [
       "<div>\n",
       "<style scoped>\n",
       "    .dataframe tbody tr th:only-of-type {\n",
       "        vertical-align: middle;\n",
       "    }\n",
       "\n",
       "    .dataframe tbody tr th {\n",
       "        vertical-align: top;\n",
       "    }\n",
       "\n",
       "    .dataframe thead th {\n",
       "        text-align: right;\n",
       "    }\n",
       "</style>\n",
       "<table border=\"1\" class=\"dataframe\">\n",
       "  <thead>\n",
       "    <tr style=\"text-align: right;\">\n",
       "      <th></th>\n",
       "      <th>x1</th>\n",
       "      <th>x2</th>\n",
       "      <th>x3</th>\n",
       "      <th>x4</th>\n",
       "      <th>x5</th>\n",
       "      <th>D</th>\n",
       "      <th>y</th>\n",
       "      <th>p</th>\n",
       "      <th>s_0(X)</th>\n",
       "      <th>B(X)</th>\n",
       "    </tr>\n",
       "  </thead>\n",
       "  <tbody>\n",
       "    <tr>\n",
       "      <th>1</th>\n",
       "      <td>0.113478</td>\n",
       "      <td>1.952099</td>\n",
       "      <td>12.554939</td>\n",
       "      <td>5.891914</td>\n",
       "      <td>3.417984</td>\n",
       "      <td>0</td>\n",
       "      <td>-25.246913</td>\n",
       "      <td>0.510720</td>\n",
       "      <td>174.112055</td>\n",
       "      <td>5.504862</td>\n",
       "    </tr>\n",
       "    <tr>\n",
       "      <th>2</th>\n",
       "      <td>0.698070</td>\n",
       "      <td>1.510368</td>\n",
       "      <td>10.737484</td>\n",
       "      <td>23.936492</td>\n",
       "      <td>-0.982472</td>\n",
       "      <td>1</td>\n",
       "      <td>74.214096</td>\n",
       "      <td>0.486787</td>\n",
       "      <td>91.193897</td>\n",
       "      <td>-23.300500</td>\n",
       "    </tr>\n",
       "    <tr>\n",
       "      <th>7</th>\n",
       "      <td>2.303411</td>\n",
       "      <td>-2.453674</td>\n",
       "      <td>9.559623</td>\n",
       "      <td>9.219513</td>\n",
       "      <td>1.638712</td>\n",
       "      <td>0</td>\n",
       "      <td>18.614679</td>\n",
       "      <td>0.394673</td>\n",
       "      <td>75.261756</td>\n",
       "      <td>34.747788</td>\n",
       "    </tr>\n",
       "    <tr>\n",
       "      <th>8</th>\n",
       "      <td>-0.453174</td>\n",
       "      <td>-5.073321</td>\n",
       "      <td>11.321234</td>\n",
       "      <td>9.973765</td>\n",
       "      <td>-3.911518</td>\n",
       "      <td>1</td>\n",
       "      <td>61.129144</td>\n",
       "      <td>0.254191</td>\n",
       "      <td>122.268300</td>\n",
       "      <td>-72.867605</td>\n",
       "    </tr>\n",
       "    <tr>\n",
       "      <th>9</th>\n",
       "      <td>1.300373</td>\n",
       "      <td>-4.672497</td>\n",
       "      <td>8.682191</td>\n",
       "      <td>21.993878</td>\n",
       "      <td>-3.037796</td>\n",
       "      <td>0</td>\n",
       "      <td>15.603340</td>\n",
       "      <td>0.280280</td>\n",
       "      <td>78.667302</td>\n",
       "      <td>8.452007</td>\n",
       "    </tr>\n",
       "  </tbody>\n",
       "</table>\n",
       "</div>"
      ],
      "text/plain": [
       "         x1        x2         x3         x4        x5  D          y         p  \\\n",
       "1  0.113478  1.952099  12.554939   5.891914  3.417984  0 -25.246913  0.510720   \n",
       "2  0.698070  1.510368  10.737484  23.936492 -0.982472  1  74.214096  0.486787   \n",
       "7  2.303411 -2.453674   9.559623   9.219513  1.638712  0  18.614679  0.394673   \n",
       "8 -0.453174 -5.073321  11.321234   9.973765 -3.911518  1  61.129144  0.254191   \n",
       "9  1.300373 -4.672497   8.682191  21.993878 -3.037796  0  15.603340  0.280280   \n",
       "\n",
       "       s_0(X)       B(X)  \n",
       "1  174.112055   5.504862  \n",
       "2   91.193897 -23.300500  \n",
       "7   75.261756  34.747788  \n",
       "8  122.268300 -72.867605  \n",
       "9   78.667302   8.452007  "
      ]
     },
     "execution_count": 10,
     "metadata": {},
     "output_type": "execute_result"
    }
   ],
   "source": [
    "# D = 0\n",
    "rf = RandomForestRegressor()\n",
    "X_train = df_A[df_A['D'] == 0][Xs]\n",
    "y_train = df_A[df_A['D'] == 0]['y']\n",
    "X_pred = df_B[Xs]\n",
    "rf.fit(X_train, y_train)\n",
    "df_B['B(X)'] = rf.predict(X_pred)\n",
    "df_B.head()"
   ]
  },
  {
   "cell_type": "code",
   "execution_count": 11,
   "id": "d5dbb469",
   "metadata": {},
   "outputs": [
    {
     "data": {
      "text/html": [
       "<div>\n",
       "<style scoped>\n",
       "    .dataframe tbody tr th:only-of-type {\n",
       "        vertical-align: middle;\n",
       "    }\n",
       "\n",
       "    .dataframe tbody tr th {\n",
       "        vertical-align: top;\n",
       "    }\n",
       "\n",
       "    .dataframe thead th {\n",
       "        text-align: right;\n",
       "    }\n",
       "</style>\n",
       "<table border=\"1\" class=\"dataframe\">\n",
       "  <thead>\n",
       "    <tr style=\"text-align: right;\">\n",
       "      <th></th>\n",
       "      <th>x1</th>\n",
       "      <th>x2</th>\n",
       "      <th>x3</th>\n",
       "      <th>x4</th>\n",
       "      <th>x5</th>\n",
       "      <th>D</th>\n",
       "      <th>y</th>\n",
       "      <th>p</th>\n",
       "      <th>s_0(X)</th>\n",
       "      <th>B(X)</th>\n",
       "      <th>E(Y|D=1)</th>\n",
       "    </tr>\n",
       "  </thead>\n",
       "  <tbody>\n",
       "    <tr>\n",
       "      <th>1</th>\n",
       "      <td>0.113478</td>\n",
       "      <td>1.952099</td>\n",
       "      <td>12.554939</td>\n",
       "      <td>5.891914</td>\n",
       "      <td>3.417984</td>\n",
       "      <td>0</td>\n",
       "      <td>-25.246913</td>\n",
       "      <td>0.510720</td>\n",
       "      <td>174.112055</td>\n",
       "      <td>5.504862</td>\n",
       "      <td>150.770789</td>\n",
       "    </tr>\n",
       "    <tr>\n",
       "      <th>2</th>\n",
       "      <td>0.698070</td>\n",
       "      <td>1.510368</td>\n",
       "      <td>10.737484</td>\n",
       "      <td>23.936492</td>\n",
       "      <td>-0.982472</td>\n",
       "      <td>1</td>\n",
       "      <td>74.214096</td>\n",
       "      <td>0.486787</td>\n",
       "      <td>91.193897</td>\n",
       "      <td>-23.300500</td>\n",
       "      <td>110.724366</td>\n",
       "    </tr>\n",
       "    <tr>\n",
       "      <th>7</th>\n",
       "      <td>2.303411</td>\n",
       "      <td>-2.453674</td>\n",
       "      <td>9.559623</td>\n",
       "      <td>9.219513</td>\n",
       "      <td>1.638712</td>\n",
       "      <td>0</td>\n",
       "      <td>18.614679</td>\n",
       "      <td>0.394673</td>\n",
       "      <td>75.261756</td>\n",
       "      <td>34.747788</td>\n",
       "      <td>120.745389</td>\n",
       "    </tr>\n",
       "    <tr>\n",
       "      <th>8</th>\n",
       "      <td>-0.453174</td>\n",
       "      <td>-5.073321</td>\n",
       "      <td>11.321234</td>\n",
       "      <td>9.973765</td>\n",
       "      <td>-3.911518</td>\n",
       "      <td>1</td>\n",
       "      <td>61.129144</td>\n",
       "      <td>0.254191</td>\n",
       "      <td>122.268300</td>\n",
       "      <td>-72.867605</td>\n",
       "      <td>45.002532</td>\n",
       "    </tr>\n",
       "    <tr>\n",
       "      <th>9</th>\n",
       "      <td>1.300373</td>\n",
       "      <td>-4.672497</td>\n",
       "      <td>8.682191</td>\n",
       "      <td>21.993878</td>\n",
       "      <td>-3.037796</td>\n",
       "      <td>0</td>\n",
       "      <td>15.603340</td>\n",
       "      <td>0.280280</td>\n",
       "      <td>78.667302</td>\n",
       "      <td>8.452007</td>\n",
       "      <td>73.402589</td>\n",
       "    </tr>\n",
       "  </tbody>\n",
       "</table>\n",
       "</div>"
      ],
      "text/plain": [
       "         x1        x2         x3         x4        x5  D          y         p  \\\n",
       "1  0.113478  1.952099  12.554939   5.891914  3.417984  0 -25.246913  0.510720   \n",
       "2  0.698070  1.510368  10.737484  23.936492 -0.982472  1  74.214096  0.486787   \n",
       "7  2.303411 -2.453674   9.559623   9.219513  1.638712  0  18.614679  0.394673   \n",
       "8 -0.453174 -5.073321  11.321234   9.973765 -3.911518  1  61.129144  0.254191   \n",
       "9  1.300373 -4.672497   8.682191  21.993878 -3.037796  0  15.603340  0.280280   \n",
       "\n",
       "       s_0(X)       B(X)    E(Y|D=1)  \n",
       "1  174.112055   5.504862  150.770789  \n",
       "2   91.193897 -23.300500  110.724366  \n",
       "7   75.261756  34.747788  120.745389  \n",
       "8  122.268300 -72.867605   45.002532  \n",
       "9   78.667302   8.452007   73.402589  "
      ]
     },
     "execution_count": 11,
     "metadata": {},
     "output_type": "execute_result"
    }
   ],
   "source": [
    "# D = 1\n",
    "rf = RandomForestRegressor()\n",
    "X_train = df_A[df_A['D'] == 1][Xs]\n",
    "y_train = df_A[df_A['D'] == 1]['y']\n",
    "X_pred = df_B[Xs]\n",
    "rf.fit(X_train, y_train)\n",
    "df_B['E(Y|D=1)'] = rf.predict(X_pred)\n",
    "df_B.head()"
   ]
  },
  {
   "cell_type": "code",
   "execution_count": 12,
   "id": "b93ed5ad",
   "metadata": {},
   "outputs": [
    {
     "data": {
      "text/html": [
       "<div>\n",
       "<style scoped>\n",
       "    .dataframe tbody tr th:only-of-type {\n",
       "        vertical-align: middle;\n",
       "    }\n",
       "\n",
       "    .dataframe tbody tr th {\n",
       "        vertical-align: top;\n",
       "    }\n",
       "\n",
       "    .dataframe thead th {\n",
       "        text-align: right;\n",
       "    }\n",
       "</style>\n",
       "<table border=\"1\" class=\"dataframe\">\n",
       "  <thead>\n",
       "    <tr style=\"text-align: right;\">\n",
       "      <th></th>\n",
       "      <th>x1</th>\n",
       "      <th>x2</th>\n",
       "      <th>x3</th>\n",
       "      <th>x4</th>\n",
       "      <th>x5</th>\n",
       "      <th>D</th>\n",
       "      <th>y</th>\n",
       "      <th>p</th>\n",
       "      <th>s_0(X)</th>\n",
       "      <th>B(X)</th>\n",
       "      <th>E(Y|D=1)</th>\n",
       "      <th>S(X)</th>\n",
       "    </tr>\n",
       "  </thead>\n",
       "  <tbody>\n",
       "    <tr>\n",
       "      <th>1</th>\n",
       "      <td>0.113478</td>\n",
       "      <td>1.952099</td>\n",
       "      <td>12.554939</td>\n",
       "      <td>5.891914</td>\n",
       "      <td>3.417984</td>\n",
       "      <td>0</td>\n",
       "      <td>-25.246913</td>\n",
       "      <td>0.510720</td>\n",
       "      <td>174.112055</td>\n",
       "      <td>5.504862</td>\n",
       "      <td>150.770789</td>\n",
       "      <td>145.265927</td>\n",
       "    </tr>\n",
       "    <tr>\n",
       "      <th>2</th>\n",
       "      <td>0.698070</td>\n",
       "      <td>1.510368</td>\n",
       "      <td>10.737484</td>\n",
       "      <td>23.936492</td>\n",
       "      <td>-0.982472</td>\n",
       "      <td>1</td>\n",
       "      <td>74.214096</td>\n",
       "      <td>0.486787</td>\n",
       "      <td>91.193897</td>\n",
       "      <td>-23.300500</td>\n",
       "      <td>110.724366</td>\n",
       "      <td>134.024867</td>\n",
       "    </tr>\n",
       "    <tr>\n",
       "      <th>7</th>\n",
       "      <td>2.303411</td>\n",
       "      <td>-2.453674</td>\n",
       "      <td>9.559623</td>\n",
       "      <td>9.219513</td>\n",
       "      <td>1.638712</td>\n",
       "      <td>0</td>\n",
       "      <td>18.614679</td>\n",
       "      <td>0.394673</td>\n",
       "      <td>75.261756</td>\n",
       "      <td>34.747788</td>\n",
       "      <td>120.745389</td>\n",
       "      <td>85.997601</td>\n",
       "    </tr>\n",
       "    <tr>\n",
       "      <th>8</th>\n",
       "      <td>-0.453174</td>\n",
       "      <td>-5.073321</td>\n",
       "      <td>11.321234</td>\n",
       "      <td>9.973765</td>\n",
       "      <td>-3.911518</td>\n",
       "      <td>1</td>\n",
       "      <td>61.129144</td>\n",
       "      <td>0.254191</td>\n",
       "      <td>122.268300</td>\n",
       "      <td>-72.867605</td>\n",
       "      <td>45.002532</td>\n",
       "      <td>117.870137</td>\n",
       "    </tr>\n",
       "    <tr>\n",
       "      <th>9</th>\n",
       "      <td>1.300373</td>\n",
       "      <td>-4.672497</td>\n",
       "      <td>8.682191</td>\n",
       "      <td>21.993878</td>\n",
       "      <td>-3.037796</td>\n",
       "      <td>0</td>\n",
       "      <td>15.603340</td>\n",
       "      <td>0.280280</td>\n",
       "      <td>78.667302</td>\n",
       "      <td>8.452007</td>\n",
       "      <td>73.402589</td>\n",
       "      <td>64.950582</td>\n",
       "    </tr>\n",
       "  </tbody>\n",
       "</table>\n",
       "</div>"
      ],
      "text/plain": [
       "         x1        x2         x3         x4        x5  D          y         p  \\\n",
       "1  0.113478  1.952099  12.554939   5.891914  3.417984  0 -25.246913  0.510720   \n",
       "2  0.698070  1.510368  10.737484  23.936492 -0.982472  1  74.214096  0.486787   \n",
       "7  2.303411 -2.453674   9.559623   9.219513  1.638712  0  18.614679  0.394673   \n",
       "8 -0.453174 -5.073321  11.321234   9.973765 -3.911518  1  61.129144  0.254191   \n",
       "9  1.300373 -4.672497   8.682191  21.993878 -3.037796  0  15.603340  0.280280   \n",
       "\n",
       "       s_0(X)       B(X)    E(Y|D=1)        S(X)  \n",
       "1  174.112055   5.504862  150.770789  145.265927  \n",
       "2   91.193897 -23.300500  110.724366  134.024867  \n",
       "7   75.261756  34.747788  120.745389   85.997601  \n",
       "8  122.268300 -72.867605   45.002532  117.870137  \n",
       "9   78.667302   8.452007   73.402589   64.950582  "
      ]
     },
     "execution_count": 12,
     "metadata": {},
     "output_type": "execute_result"
    }
   ],
   "source": [
    "df_B['S(X)'] = df_B['E(Y|D=1)'] - df_B['B(X)']\n",
    "df_B.head()"
   ]
  },
  {
   "cell_type": "code",
   "execution_count": 13,
   "id": "58094777",
   "metadata": {},
   "outputs": [
    {
     "data": {
      "text/html": [
       "<div>\n",
       "<style scoped>\n",
       "    .dataframe tbody tr th:only-of-type {\n",
       "        vertical-align: middle;\n",
       "    }\n",
       "\n",
       "    .dataframe tbody tr th {\n",
       "        vertical-align: top;\n",
       "    }\n",
       "\n",
       "    .dataframe thead th {\n",
       "        text-align: right;\n",
       "    }\n",
       "</style>\n",
       "<table border=\"1\" class=\"dataframe\">\n",
       "  <thead>\n",
       "    <tr style=\"text-align: right;\">\n",
       "      <th></th>\n",
       "      <th>x1</th>\n",
       "      <th>x2</th>\n",
       "      <th>x3</th>\n",
       "      <th>x4</th>\n",
       "      <th>x5</th>\n",
       "      <th>D</th>\n",
       "      <th>y</th>\n",
       "      <th>p</th>\n",
       "      <th>s_0(X)</th>\n",
       "      <th>B(X)</th>\n",
       "      <th>E(Y|D=1)</th>\n",
       "      <th>S(X)</th>\n",
       "    </tr>\n",
       "  </thead>\n",
       "  <tbody>\n",
       "    <tr>\n",
       "      <th>x1</th>\n",
       "      <td>1.000000</td>\n",
       "      <td>-0.002576</td>\n",
       "      <td>0.007364</td>\n",
       "      <td>0.008153</td>\n",
       "      <td>0.024647</td>\n",
       "      <td>0.072364</td>\n",
       "      <td>0.364926</td>\n",
       "      <td>0.425122</td>\n",
       "      <td>-0.046418</td>\n",
       "      <td>0.744195</td>\n",
       "      <td>0.344022</td>\n",
       "      <td>-0.075306</td>\n",
       "    </tr>\n",
       "    <tr>\n",
       "      <th>x2</th>\n",
       "      <td>-0.002576</td>\n",
       "      <td>1.000000</td>\n",
       "      <td>-0.014584</td>\n",
       "      <td>0.019487</td>\n",
       "      <td>0.032985</td>\n",
       "      <td>0.143056</td>\n",
       "      <td>0.086795</td>\n",
       "      <td>0.846840</td>\n",
       "      <td>0.011265</td>\n",
       "      <td>-0.064286</td>\n",
       "      <td>-0.021556</td>\n",
       "      <td>0.015547</td>\n",
       "    </tr>\n",
       "    <tr>\n",
       "      <th>x3</th>\n",
       "      <td>0.007364</td>\n",
       "      <td>-0.014584</td>\n",
       "      <td>1.000000</td>\n",
       "      <td>-0.014005</td>\n",
       "      <td>-0.001032</td>\n",
       "      <td>0.056606</td>\n",
       "      <td>0.046208</td>\n",
       "      <td>0.307396</td>\n",
       "      <td>0.161617</td>\n",
       "      <td>-0.072010</td>\n",
       "      <td>0.064514</td>\n",
       "      <td>0.115632</td>\n",
       "    </tr>\n",
       "    <tr>\n",
       "      <th>x4</th>\n",
       "      <td>0.008153</td>\n",
       "      <td>0.019487</td>\n",
       "      <td>-0.014005</td>\n",
       "      <td>1.000000</td>\n",
       "      <td>-0.005734</td>\n",
       "      <td>0.001675</td>\n",
       "      <td>-0.065050</td>\n",
       "      <td>0.015643</td>\n",
       "      <td>-0.028039</td>\n",
       "      <td>-0.118016</td>\n",
       "      <td>-0.106444</td>\n",
       "      <td>-0.045539</td>\n",
       "    </tr>\n",
       "    <tr>\n",
       "      <th>x5</th>\n",
       "      <td>0.024647</td>\n",
       "      <td>0.032985</td>\n",
       "      <td>-0.001032</td>\n",
       "      <td>-0.005734</td>\n",
       "      <td>1.000000</td>\n",
       "      <td>0.000736</td>\n",
       "      <td>0.002444</td>\n",
       "      <td>0.038269</td>\n",
       "      <td>-0.005677</td>\n",
       "      <td>0.024298</td>\n",
       "      <td>0.009269</td>\n",
       "      <td>-0.004634</td>\n",
       "    </tr>\n",
       "    <tr>\n",
       "      <th>D</th>\n",
       "      <td>0.072364</td>\n",
       "      <td>0.143056</td>\n",
       "      <td>0.056606</td>\n",
       "      <td>0.001675</td>\n",
       "      <td>0.000736</td>\n",
       "      <td>1.000000</td>\n",
       "      <td>0.759995</td>\n",
       "      <td>0.170644</td>\n",
       "      <td>-0.002864</td>\n",
       "      <td>0.044686</td>\n",
       "      <td>0.016844</td>\n",
       "      <td>-0.008746</td>\n",
       "    </tr>\n",
       "    <tr>\n",
       "      <th>y</th>\n",
       "      <td>0.364926</td>\n",
       "      <td>0.086795</td>\n",
       "      <td>0.046208</td>\n",
       "      <td>-0.065050</td>\n",
       "      <td>0.002444</td>\n",
       "      <td>0.759995</td>\n",
       "      <td>1.000000</td>\n",
       "      <td>0.243719</td>\n",
       "      <td>0.259363</td>\n",
       "      <td>0.454537</td>\n",
       "      <td>0.441979</td>\n",
       "      <td>0.210856</td>\n",
       "    </tr>\n",
       "    <tr>\n",
       "      <th>p</th>\n",
       "      <td>0.425122</td>\n",
       "      <td>0.846840</td>\n",
       "      <td>0.307396</td>\n",
       "      <td>0.015643</td>\n",
       "      <td>0.038269</td>\n",
       "      <td>0.170644</td>\n",
       "      <td>0.243719</td>\n",
       "      <td>1.000000</td>\n",
       "      <td>0.041061</td>\n",
       "      <td>0.238660</td>\n",
       "      <td>0.148259</td>\n",
       "      <td>0.017871</td>\n",
       "    </tr>\n",
       "    <tr>\n",
       "      <th>s_0(X)</th>\n",
       "      <td>-0.046418</td>\n",
       "      <td>0.011265</td>\n",
       "      <td>0.161617</td>\n",
       "      <td>-0.028039</td>\n",
       "      <td>-0.005677</td>\n",
       "      <td>-0.002864</td>\n",
       "      <td>0.259363</td>\n",
       "      <td>0.041061</td>\n",
       "      <td>1.000000</td>\n",
       "      <td>-0.048472</td>\n",
       "      <td>0.822596</td>\n",
       "      <td>0.940993</td>\n",
       "    </tr>\n",
       "    <tr>\n",
       "      <th>B(X)</th>\n",
       "      <td>0.744195</td>\n",
       "      <td>-0.064286</td>\n",
       "      <td>-0.072010</td>\n",
       "      <td>-0.118016</td>\n",
       "      <td>0.024298</td>\n",
       "      <td>0.044686</td>\n",
       "      <td>0.454537</td>\n",
       "      <td>0.238660</td>\n",
       "      <td>-0.048472</td>\n",
       "      <td>1.000000</td>\n",
       "      <td>0.444017</td>\n",
       "      <td>-0.121416</td>\n",
       "    </tr>\n",
       "    <tr>\n",
       "      <th>E(Y|D=1)</th>\n",
       "      <td>0.344022</td>\n",
       "      <td>-0.021556</td>\n",
       "      <td>0.064514</td>\n",
       "      <td>-0.106444</td>\n",
       "      <td>0.009269</td>\n",
       "      <td>0.016844</td>\n",
       "      <td>0.441979</td>\n",
       "      <td>0.148259</td>\n",
       "      <td>0.822596</td>\n",
       "      <td>0.444017</td>\n",
       "      <td>1.000000</td>\n",
       "      <td>0.835479</td>\n",
       "    </tr>\n",
       "    <tr>\n",
       "      <th>S(X)</th>\n",
       "      <td>-0.075306</td>\n",
       "      <td>0.015547</td>\n",
       "      <td>0.115632</td>\n",
       "      <td>-0.045539</td>\n",
       "      <td>-0.004634</td>\n",
       "      <td>-0.008746</td>\n",
       "      <td>0.210856</td>\n",
       "      <td>0.017871</td>\n",
       "      <td>0.940993</td>\n",
       "      <td>-0.121416</td>\n",
       "      <td>0.835479</td>\n",
       "      <td>1.000000</td>\n",
       "    </tr>\n",
       "  </tbody>\n",
       "</table>\n",
       "</div>"
      ],
      "text/plain": [
       "                x1        x2        x3        x4        x5         D  \\\n",
       "x1        1.000000 -0.002576  0.007364  0.008153  0.024647  0.072364   \n",
       "x2       -0.002576  1.000000 -0.014584  0.019487  0.032985  0.143056   \n",
       "x3        0.007364 -0.014584  1.000000 -0.014005 -0.001032  0.056606   \n",
       "x4        0.008153  0.019487 -0.014005  1.000000 -0.005734  0.001675   \n",
       "x5        0.024647  0.032985 -0.001032 -0.005734  1.000000  0.000736   \n",
       "D         0.072364  0.143056  0.056606  0.001675  0.000736  1.000000   \n",
       "y         0.364926  0.086795  0.046208 -0.065050  0.002444  0.759995   \n",
       "p         0.425122  0.846840  0.307396  0.015643  0.038269  0.170644   \n",
       "s_0(X)   -0.046418  0.011265  0.161617 -0.028039 -0.005677 -0.002864   \n",
       "B(X)      0.744195 -0.064286 -0.072010 -0.118016  0.024298  0.044686   \n",
       "E(Y|D=1)  0.344022 -0.021556  0.064514 -0.106444  0.009269  0.016844   \n",
       "S(X)     -0.075306  0.015547  0.115632 -0.045539 -0.004634 -0.008746   \n",
       "\n",
       "                 y         p    s_0(X)      B(X)  E(Y|D=1)      S(X)  \n",
       "x1        0.364926  0.425122 -0.046418  0.744195  0.344022 -0.075306  \n",
       "x2        0.086795  0.846840  0.011265 -0.064286 -0.021556  0.015547  \n",
       "x3        0.046208  0.307396  0.161617 -0.072010  0.064514  0.115632  \n",
       "x4       -0.065050  0.015643 -0.028039 -0.118016 -0.106444 -0.045539  \n",
       "x5        0.002444  0.038269 -0.005677  0.024298  0.009269 -0.004634  \n",
       "D         0.759995  0.170644 -0.002864  0.044686  0.016844 -0.008746  \n",
       "y         1.000000  0.243719  0.259363  0.454537  0.441979  0.210856  \n",
       "p         0.243719  1.000000  0.041061  0.238660  0.148259  0.017871  \n",
       "s_0(X)    0.259363  0.041061  1.000000 -0.048472  0.822596  0.940993  \n",
       "B(X)      0.454537  0.238660 -0.048472  1.000000  0.444017 -0.121416  \n",
       "E(Y|D=1)  0.441979  0.148259  0.822596  0.444017  1.000000  0.835479  \n",
       "S(X)      0.210856  0.017871  0.940993 -0.121416  0.835479  1.000000  "
      ]
     },
     "execution_count": 13,
     "metadata": {},
     "output_type": "execute_result"
    }
   ],
   "source": [
    "df_B.corr()"
   ]
  },
  {
   "cell_type": "markdown",
   "id": "861f408a",
   "metadata": {},
   "source": [
    "# I) BLP: page 11 of the paper (1st strategy)"
   ]
  },
  {
   "cell_type": "code",
   "execution_count": 14,
   "id": "775af7cf",
   "metadata": {},
   "outputs": [
    {
     "data": {
      "text/html": [
       "<div>\n",
       "<style scoped>\n",
       "    .dataframe tbody tr th:only-of-type {\n",
       "        vertical-align: middle;\n",
       "    }\n",
       "\n",
       "    .dataframe tbody tr th {\n",
       "        vertical-align: top;\n",
       "    }\n",
       "\n",
       "    .dataframe thead th {\n",
       "        text-align: right;\n",
       "    }\n",
       "</style>\n",
       "<table border=\"1\" class=\"dataframe\">\n",
       "  <thead>\n",
       "    <tr style=\"text-align: right;\">\n",
       "      <th></th>\n",
       "      <th>x1</th>\n",
       "      <th>x2</th>\n",
       "      <th>x3</th>\n",
       "      <th>x4</th>\n",
       "      <th>x5</th>\n",
       "      <th>D</th>\n",
       "      <th>y</th>\n",
       "      <th>p</th>\n",
       "      <th>s_0(X)</th>\n",
       "      <th>B(X)</th>\n",
       "      <th>E(Y|D=1)</th>\n",
       "      <th>S(X)</th>\n",
       "      <th>const</th>\n",
       "      <th>D_minus_p</th>\n",
       "      <th>D_minus_p_times_S(X)_minus_ES</th>\n",
       "    </tr>\n",
       "  </thead>\n",
       "  <tbody>\n",
       "    <tr>\n",
       "      <th>1</th>\n",
       "      <td>0.113478</td>\n",
       "      <td>1.952099</td>\n",
       "      <td>12.554939</td>\n",
       "      <td>5.891914</td>\n",
       "      <td>3.417984</td>\n",
       "      <td>0</td>\n",
       "      <td>-25.246913</td>\n",
       "      <td>0.510720</td>\n",
       "      <td>174.112055</td>\n",
       "      <td>5.504862</td>\n",
       "      <td>150.770789</td>\n",
       "      <td>145.265927</td>\n",
       "      <td>1</td>\n",
       "      <td>-0.510720</td>\n",
       "      <td>-8.029694</td>\n",
       "    </tr>\n",
       "    <tr>\n",
       "      <th>2</th>\n",
       "      <td>0.698070</td>\n",
       "      <td>1.510368</td>\n",
       "      <td>10.737484</td>\n",
       "      <td>23.936492</td>\n",
       "      <td>-0.982472</td>\n",
       "      <td>1</td>\n",
       "      <td>74.214096</td>\n",
       "      <td>0.486787</td>\n",
       "      <td>91.193897</td>\n",
       "      <td>-23.300500</td>\n",
       "      <td>110.724366</td>\n",
       "      <td>134.024867</td>\n",
       "      <td>1</td>\n",
       "      <td>0.513213</td>\n",
       "      <td>2.299829</td>\n",
       "    </tr>\n",
       "    <tr>\n",
       "      <th>7</th>\n",
       "      <td>2.303411</td>\n",
       "      <td>-2.453674</td>\n",
       "      <td>9.559623</td>\n",
       "      <td>9.219513</td>\n",
       "      <td>1.638712</td>\n",
       "      <td>0</td>\n",
       "      <td>18.614679</td>\n",
       "      <td>0.394673</td>\n",
       "      <td>75.261756</td>\n",
       "      <td>34.747788</td>\n",
       "      <td>120.745389</td>\n",
       "      <td>85.997601</td>\n",
       "      <td>1</td>\n",
       "      <td>-0.394673</td>\n",
       "      <td>17.186460</td>\n",
       "    </tr>\n",
       "    <tr>\n",
       "      <th>8</th>\n",
       "      <td>-0.453174</td>\n",
       "      <td>-5.073321</td>\n",
       "      <td>11.321234</td>\n",
       "      <td>9.973765</td>\n",
       "      <td>-3.911518</td>\n",
       "      <td>1</td>\n",
       "      <td>61.129144</td>\n",
       "      <td>0.254191</td>\n",
       "      <td>122.268300</td>\n",
       "      <td>-72.867605</td>\n",
       "      <td>45.002532</td>\n",
       "      <td>117.870137</td>\n",
       "      <td>1</td>\n",
       "      <td>0.745809</td>\n",
       "      <td>-8.706193</td>\n",
       "    </tr>\n",
       "    <tr>\n",
       "      <th>9</th>\n",
       "      <td>1.300373</td>\n",
       "      <td>-4.672497</td>\n",
       "      <td>8.682191</td>\n",
       "      <td>21.993878</td>\n",
       "      <td>-3.037796</td>\n",
       "      <td>0</td>\n",
       "      <td>15.603340</td>\n",
       "      <td>0.280280</td>\n",
       "      <td>78.667302</td>\n",
       "      <td>8.452007</td>\n",
       "      <td>73.402589</td>\n",
       "      <td>64.950582</td>\n",
       "      <td>1</td>\n",
       "      <td>-0.280280</td>\n",
       "      <td>18.104164</td>\n",
       "    </tr>\n",
       "  </tbody>\n",
       "</table>\n",
       "</div>"
      ],
      "text/plain": [
       "         x1        x2         x3         x4        x5  D          y         p  \\\n",
       "1  0.113478  1.952099  12.554939   5.891914  3.417984  0 -25.246913  0.510720   \n",
       "2  0.698070  1.510368  10.737484  23.936492 -0.982472  1  74.214096  0.486787   \n",
       "7  2.303411 -2.453674   9.559623   9.219513  1.638712  0  18.614679  0.394673   \n",
       "8 -0.453174 -5.073321  11.321234   9.973765 -3.911518  1  61.129144  0.254191   \n",
       "9  1.300373 -4.672497   8.682191  21.993878 -3.037796  0  15.603340  0.280280   \n",
       "\n",
       "       s_0(X)       B(X)    E(Y|D=1)        S(X)  const  D_minus_p  \\\n",
       "1  174.112055   5.504862  150.770789  145.265927      1  -0.510720   \n",
       "2   91.193897 -23.300500  110.724366  134.024867      1   0.513213   \n",
       "7   75.261756  34.747788  120.745389   85.997601      1  -0.394673   \n",
       "8  122.268300 -72.867605   45.002532  117.870137      1   0.745809   \n",
       "9   78.667302   8.452007   73.402589   64.950582      1  -0.280280   \n",
       "\n",
       "   D_minus_p_times_S(X)_minus_ES  \n",
       "1                      -8.029694  \n",
       "2                       2.299829  \n",
       "7                      17.186460  \n",
       "8                      -8.706193  \n",
       "9                      18.104164  "
      ]
     },
     "execution_count": 14,
     "metadata": {},
     "output_type": "execute_result"
    }
   ],
   "source": [
    "# creating missing variables for BLP estimation\n",
    "df_B['const'] = 1\n",
    "df_B['D_minus_p'] = df_B['D'] - df_B['p']\n",
    "df_B['D_minus_p_times_S(X)_minus_ES'] = df_B['D_minus_p'] * (df_B['S(X)'] - np.mean(df_B['S(X)']))\n",
    "df_B.head()"
   ]
  },
  {
   "cell_type": "code",
   "execution_count": 15,
   "id": "efaea4cd",
   "metadata": {},
   "outputs": [],
   "source": [
    "vars_to_use_in_BLP = ['const', 'B(X)', 'D_minus_p', 'D_minus_p_times_S(X)_minus_ES']"
   ]
  },
  {
   "cell_type": "markdown",
   "id": "7aa07a50",
   "metadata": {},
   "source": [
    "### Weighting variable for the WLS"
   ]
  },
  {
   "cell_type": "code",
   "execution_count": 16,
   "id": "88c47179",
   "metadata": {},
   "outputs": [],
   "source": [
    "df_B['omega(X)'] = 1 / df_B['p'] / (1 - df_B['p']) "
   ]
  },
  {
   "cell_type": "markdown",
   "id": "96fb6b90",
   "metadata": {},
   "source": [
    "### Weighting the variables, like it was done in the paper\n",
    "### UPD: NO NEED TO CREATE NEW WEIGHTED VARIABLES, SINCE I DO WLS LATER!!!!!! And WLS gives right-scaled coefficients straight away!!!!"
   ]
  },
  {
   "cell_type": "code",
   "execution_count": 17,
   "id": "c8297f47",
   "metadata": {},
   "outputs": [],
   "source": [
    "#for var in vars_to_use_in_BLP:\n",
    "#    name_weighted = str(var) + '_weighted'\n",
    "#    df_B[name_weighted] = df_B['omega(X)'] * df_B[var]\n",
    "#\n",
    "#df_B.head()\n",
    "#Xs_BLP = ['const_weighted', 'B(X)_weighted', 'D_minus_p_weighted', 'D_minus_p_times_S(X)_minus_ES_weighted']"
   ]
  },
  {
   "cell_type": "markdown",
   "id": "ac0f1ff7",
   "metadata": {},
   "source": [
    "### Variables for the BLP WLS"
   ]
  },
  {
   "cell_type": "code",
   "execution_count": 18,
   "id": "359d8494",
   "metadata": {},
   "outputs": [],
   "source": [
    "Xs_BLP = ['const', 'B(X)', 'D_minus_p', 'D_minus_p_times_S(X)_minus_ES']"
   ]
  },
  {
   "cell_type": "code",
   "execution_count": 19,
   "id": "435adcc3",
   "metadata": {},
   "outputs": [],
   "source": [
    "import statsmodels.api as sm"
   ]
  },
  {
   "cell_type": "markdown",
   "id": "5c178177",
   "metadata": {},
   "source": [
    "# Ask whether I understood the paper (the moment near equation) correctly, so that this WLS is exactly what should be done???? (Similar in GATES section)"
   ]
  },
  {
   "cell_type": "markdown",
   "id": "107fbae2",
   "metadata": {},
   "source": [
    "### Multiplying by square, so that variables are multiplied by df_B['omega(X)']!!!!!! (Taken from documentation)\n",
    "\n",
    "#### weights: array_like, optional\n",
    "A 1d array of weights. If you supply 1/W then the variables are pre- multiplied by 1/sqrt(W). If no weights are supplied the default value is 1 and WLS results are the same as OLS.\n",
    "\n",
    "#### https://www.statsmodels.org/dev/generated/statsmodels.regression.linear_model.WLS.html"
   ]
  },
  {
   "cell_type": "code",
   "execution_count": 20,
   "id": "3fd61f57",
   "metadata": {
    "scrolled": false
   },
   "outputs": [
    {
     "data": {
      "text/html": [
       "<table class=\"simpletable\">\n",
       "<caption>WLS Regression Results</caption>\n",
       "<tr>\n",
       "  <th>Dep. Variable:</th>            <td>y</td>        <th>  R-squared:         </th> <td>   0.850</td> \n",
       "</tr>\n",
       "<tr>\n",
       "  <th>Model:</th>                   <td>WLS</td>       <th>  Adj. R-squared:    </th> <td>   0.849</td> \n",
       "</tr>\n",
       "<tr>\n",
       "  <th>Method:</th>             <td>Least Squares</td>  <th>  F-statistic:       </th> <td>   7429.</td> \n",
       "</tr>\n",
       "<tr>\n",
       "  <th>Date:</th>             <td>Tue, 31 May 2022</td> <th>  Prob (F-statistic):</th>  <td>  0.00</td>  \n",
       "</tr>\n",
       "<tr>\n",
       "  <th>Time:</th>                 <td>11:24:37</td>     <th>  Log-Likelihood:    </th> <td> -24679.</td> \n",
       "</tr>\n",
       "<tr>\n",
       "  <th>No. Observations:</th>      <td>  5000</td>      <th>  AIC:               </th> <td>4.937e+04</td>\n",
       "</tr>\n",
       "<tr>\n",
       "  <th>Df Residuals:</th>          <td>  4996</td>      <th>  BIC:               </th> <td>4.939e+04</td>\n",
       "</tr>\n",
       "<tr>\n",
       "  <th>Df Model:</th>              <td>     3</td>      <th>                     </th>     <td> </td>    \n",
       "</tr>\n",
       "<tr>\n",
       "  <th>Covariance Type:</th>         <td>HC3</td>       <th>                     </th>     <td> </td>    \n",
       "</tr>\n",
       "</table>\n",
       "<table class=\"simpletable\">\n",
       "<tr>\n",
       "                <td></td>                   <th>coef</th>     <th>std err</th>      <th>z</th>      <th>P>|z|</th>  <th>[0.025</th>    <th>0.975]</th>  \n",
       "</tr>\n",
       "<tr>\n",
       "  <th>const</th>                         <td>   49.5791</td> <td>    0.483</td> <td>  102.584</td> <td> 0.000</td> <td>   48.632</td> <td>   50.526</td>\n",
       "</tr>\n",
       "<tr>\n",
       "  <th>B(X)</th>                          <td>    1.0798</td> <td>    0.013</td> <td>   83.525</td> <td> 0.000</td> <td>    1.054</td> <td>    1.105</td>\n",
       "</tr>\n",
       "<tr>\n",
       "  <th>D_minus_p</th>                     <td>  128.0379</td> <td>    1.059</td> <td>  120.929</td> <td> 0.000</td> <td>  125.963</td> <td>  130.113</td>\n",
       "</tr>\n",
       "<tr>\n",
       "  <th>D_minus_p_times_S(X)_minus_ES</th> <td>    0.9599</td> <td>    0.022</td> <td>   43.413</td> <td> 0.000</td> <td>    0.917</td> <td>    1.003</td>\n",
       "</tr>\n",
       "</table>\n",
       "<table class=\"simpletable\">\n",
       "<tr>\n",
       "  <th>Omnibus:</th>       <td>100.147</td> <th>  Durbin-Watson:     </th> <td>   2.004</td>\n",
       "</tr>\n",
       "<tr>\n",
       "  <th>Prob(Omnibus):</th> <td> 0.000</td>  <th>  Jarque-Bera (JB):  </th> <td> 109.024</td>\n",
       "</tr>\n",
       "<tr>\n",
       "  <th>Skew:</th>          <td> 0.324</td>  <th>  Prob(JB):          </th> <td>2.12e-24</td>\n",
       "</tr>\n",
       "<tr>\n",
       "  <th>Kurtosis:</th>      <td> 3.320</td>  <th>  Cond. No.          </th> <td>    85.8</td>\n",
       "</tr>\n",
       "</table><br/><br/>Notes:<br/>[1] Standard Errors are heteroscedasticity robust (HC3)"
      ],
      "text/plain": [
       "<class 'statsmodels.iolib.summary.Summary'>\n",
       "\"\"\"\n",
       "                            WLS Regression Results                            \n",
       "==============================================================================\n",
       "Dep. Variable:                      y   R-squared:                       0.850\n",
       "Model:                            WLS   Adj. R-squared:                  0.849\n",
       "Method:                 Least Squares   F-statistic:                     7429.\n",
       "Date:                Tue, 31 May 2022   Prob (F-statistic):               0.00\n",
       "Time:                        11:24:37   Log-Likelihood:                -24679.\n",
       "No. Observations:                5000   AIC:                         4.937e+04\n",
       "Df Residuals:                    4996   BIC:                         4.939e+04\n",
       "Df Model:                           3                                         \n",
       "Covariance Type:                  HC3                                         \n",
       "=================================================================================================\n",
       "                                    coef    std err          z      P>|z|      [0.025      0.975]\n",
       "-------------------------------------------------------------------------------------------------\n",
       "const                            49.5791      0.483    102.584      0.000      48.632      50.526\n",
       "B(X)                              1.0798      0.013     83.525      0.000       1.054       1.105\n",
       "D_minus_p                       128.0379      1.059    120.929      0.000     125.963     130.113\n",
       "D_minus_p_times_S(X)_minus_ES     0.9599      0.022     43.413      0.000       0.917       1.003\n",
       "==============================================================================\n",
       "Omnibus:                      100.147   Durbin-Watson:                   2.004\n",
       "Prob(Omnibus):                  0.000   Jarque-Bera (JB):              109.024\n",
       "Skew:                           0.324   Prob(JB):                     2.12e-24\n",
       "Kurtosis:                       3.320   Cond. No.                         85.8\n",
       "==============================================================================\n",
       "\n",
       "Notes:\n",
       "[1] Standard Errors are heteroscedasticity robust (HC3)\n",
       "\"\"\""
      ]
     },
     "execution_count": 20,
     "metadata": {},
     "output_type": "execute_result"
    }
   ],
   "source": [
    "model_BLP = sm.WLS(df_B['y'], df_B[Xs_BLP], weights = df_B['omega(X)'] ** 2).fit(cov_type='HC3')\n",
    "model_BLP.summary()"
   ]
  },
  {
   "cell_type": "markdown",
   "id": "8a27ad88",
   "metadata": {},
   "source": [
    "# FIRST METRIC OF MODEL QUALITY FROM THE PAPER (FIRST TARGET IN HYPERPARAMETER TUNING)"
   ]
  },
  {
   "cell_type": "code",
   "execution_count": 21,
   "id": "8cbb21ee",
   "metadata": {},
   "outputs": [],
   "source": [
    "Lambda_hat = model_BLP.params[-1] ** 2 * np.var(df_B['S(X)'])"
   ]
  },
  {
   "cell_type": "code",
   "execution_count": null,
   "id": "42cfecf7",
   "metadata": {},
   "outputs": [],
   "source": []
  },
  {
   "cell_type": "markdown",
   "id": "24caa202",
   "metadata": {},
   "source": [
    "# BY THE WAY THE COEF TO THE D_MINUS_P IS THE AVERAGE TREATMENT EFFECT!!!!!"
   ]
  },
  {
   "cell_type": "markdown",
   "id": "63a98014",
   "metadata": {},
   "source": [
    "# Our taget coefficient is the last one, in this example it's 0.9654. 1 means that S(X) is perfect estimator of s_0(X), 0 means that S(X) is completely bad. We have significantly positive coef: So S(X) may estimate s_0(X), and it's close to the perfect one, SO I WAS NOT SUCCESSFUL TO TRICK ML ALGORITHM (MAYBE ADDING MORE VARIABLES AND INTERACTIONS WILL HELP TO TRICK IT :(. Note that this coefficient times VAR(S(Z)) is proportional to corr^2(s_0(X), S(X)), according to the paper\n",
    "\n",
    "## My idea is to try to find hyperparameters which maximize this coefficient and check whether it's better than mimimizing MSE. And even try to substitute MSE onto coef maximization or alternative loss minimization in the direct estimation of the model somehow whenever it's actually possible (maybe MSE is good proxy of that so the effort is not reasonable for in the model estimation case)!!!!\n",
    "\n",
    "## I want to look at effects on GATES and CLAN after substituting MSE min with coef max as well!!"
   ]
  },
  {
   "cell_type": "markdown",
   "id": "e45e5326",
   "metadata": {},
   "source": [
    "# Combine and make modular all of the above, so that different models and hyperparameter tuning can be easily implemented!!!!"
   ]
  },
  {
   "cell_type": "markdown",
   "id": "84794369",
   "metadata": {},
   "source": [
    "# Plan: \n",
    "## 1) Finish with GATES and CLAN\n",
    "## 2) convenient class with code above and maybe with GATES and CLAN \n",
    "## 3) do hyperparameter tuning with new models\n",
    "## 4) Try new DGPs with emphasis on 'tricking' Naive ML (so that coef in BLP is not close to 1)!!!"
   ]
  },
  {
   "cell_type": "markdown",
   "id": "8f5bd94c",
   "metadata": {},
   "source": [
    "# ALSO IN THE END OF VIDEO (WHILE ANSWERING LAST QUESTION) CHERNOZHUKOV MENTIONED PAPER WITH USAGE OF TARGET LOSSES INSTEAD OF CONVENTIONAL ONES, CHECK THAT!!!!!\n",
    "# THIS ABOVE VERY IMPORTANT, MAYBE USE IT AS A KEY COMPONENT LATER ON FOR DIPLOMA ETC, CHECK THE PAPER WITH USAGE OF TARGET LOSSES INSTEAD OF CONVENTIONAL ONES IN ESTIMATING AND HYPERPARAMETER TUNING !!!!!!!!!!!!!!!!!!!!!!!!!!!!!!!!!!!!!!!!!!!!!!!!!!!!!!!!!!!!!!!!!!!!!!!!!!!!!!!!!!!!!!!!!!!!!!!!!!!!"
   ]
  },
  {
   "cell_type": "markdown",
   "id": "0e09bfd5",
   "metadata": {},
   "source": [
    "# II) GATES (1st strategy from the paper): page 14 of the paper!"
   ]
  },
  {
   "cell_type": "markdown",
   "id": "0cde5522",
   "metadata": {},
   "source": [
    "# The idea is simple: \n",
    "## 1) (quotes from page 14) endogenously split onto groups sorting by S(X). Split on groups is not exactly defined, but there is the phrase: \"We build the groups to explain as much variation\" also (interval regions \"... with equal or unequal masses\" and just some intervals. Let me check the distribution of S(X) and if distribution does not tell much, I will just order the S(X) and split onto 5 equal parts or equal buckets?????\n",
    "## 2) Again run WLS like on page 15 and the coefficients will be exactly the GATES\n",
    "## 3) Graphs (like in page 16 of the paper) with True GATES (take this groups and calc. actual mean of s_0), Estimated Gates (coefs of WLS) and Naive strategy (means of S(X) in each group)"
   ]
  },
  {
   "cell_type": "code",
   "execution_count": 22,
   "id": "e4f65ce7",
   "metadata": {},
   "outputs": [],
   "source": [
    "import seaborn as sns\n",
    "import matplotlib.pyplot as plt"
   ]
  },
  {
   "cell_type": "code",
   "execution_count": 23,
   "id": "96d7f2d7",
   "metadata": {},
   "outputs": [
    {
     "data": {
      "image/png": "[encoded data removed]",
      "text/plain": [
       "<Figure size 1152x360 with 2 Axes>"
      ]
     },
     "metadata": {},
     "output_type": "display_data"
    }
   ],
   "source": [
    "# distribution of S(X)\n",
    "fig, ax = plt.subplots(1, 2, figsize = (16, 5))\n",
    "# distribution of the S(X)\n",
    "sns.kdeplot(df_B['S(X)'], color=\"green\", shade=True, ax = ax[0])\n",
    "sns.kdeplot(df_B['S(X)'], color=\"green\", shade=True, ax = ax[1])\n",
    "\n",
    "# Equal size of data in the grops\n",
    "for i in [20, 40, 60, 80]:\n",
    "    ax[0].axvline(x = np.percentile(df_B['S(X)'], i))\n",
    "ax[0].set_title('Equal size of data in the groups', fontsize = 20)\n",
    "# Equal intervals of groups    \n",
    "for i in np.linspace(np.min(df_B['S(X)']), np.max(df_B['S(X)']), 6)[1:-1]:\n",
    "    ax[1].axvline(x = i)\n",
    "ax[1].set_title('Equal intervals in the groups', fontsize = 20)\n",
    "\n",
    "for i in range(2):\n",
    "    ax[i].set_xlabel('S(X)', fontsize = 17)\n",
    "    ax[i].set_ylabel('Density', fontsize = 17)\n",
    "plt.show()"
   ]
  },
  {
   "cell_type": "code",
   "execution_count": 24,
   "id": "44c6d0ac",
   "metadata": {},
   "outputs": [
    {
     "data": {
      "image/png": "[encoded data removed]",
      "text/plain": [
       "<Figure size 504x360 with 1 Axes>"
      ]
     },
     "metadata": {},
     "output_type": "display_data"
    }
   ],
   "source": [
    "fig = plt.figure(figsize = (7, 5))\n",
    "sns.kdeplot(df_B['s_0(X)'], color = 'green', shade = True)\n",
    "plt.xlabel('s_0(X)', fontsize = 17)\n",
    "plt.ylabel('Density', fontsize = 17)\n",
    "plt.title('Distribution of s_0(X)', fontsize = 20)\n",
    "plt.show()"
   ]
  },
  {
   "cell_type": "markdown",
   "id": "f5bc8f91",
   "metadata": {},
   "source": [
    "# Is there general strategy of choosing groups with highest info criterion in a non-trivial way????\n",
    "# And whether it can be reasonably suggested which one above is better to partition by????"
   ]
  },
  {
   "cell_type": "markdown",
   "id": "b489483f",
   "metadata": {},
   "source": [
    "# Initially (07/05) I am going to proceed with equal size of data variant, 5 groups!!!"
   ]
  },
  {
   "cell_type": "markdown",
   "id": "18522014",
   "metadata": {},
   "source": [
    "## Creating group dummy variables: UPD: USING ROBUST RANKING METHOD (IN CASE OF EQUAL VALUES OF SOME VARIABLE FOR SEVERAL/ALL OBSERVATION)"
   ]
  },
  {
   "cell_type": "code",
   "execution_count": 25,
   "id": "700651ad",
   "metadata": {},
   "outputs": [],
   "source": [
    "df_B = df_B.sort_values('S(X)')\n",
    "\n",
    "for i in range(5):\n",
    "    name = 'Group_{}'.format(i + 1)\n",
    "    zero_vector = np.zeros(df_B.shape[0])\n",
    "    # needed quantile gets 1!!\n",
    "    start_index = int(round(i * df_B.shape[0] / 5))\n",
    "    end_index = int(round((i + 1) * df_B.shape[0] / 5))\n",
    "    zero_vector[start_index: end_index] = 1\n",
    "    df_B[name] = zero_vector\n",
    "    \n",
    "df_B = df_B.sort_index()"
   ]
  },
  {
   "cell_type": "markdown",
   "id": "326b4b92",
   "metadata": {},
   "source": [
    "## ctrl + / to comment/uncomment several lines of selected code simultaneously!!!"
   ]
  },
  {
   "cell_type": "markdown",
   "id": "18d02451",
   "metadata": {},
   "source": [
    "## Old, non-robust method!!!"
   ]
  },
  {
   "cell_type": "code",
   "execution_count": 26,
   "id": "28e0b929",
   "metadata": {},
   "outputs": [],
   "source": [
    "# if taking equal intervals: boundaries = np.linspace(np.min(df_B['S(X)']), np.max(df_B['S(X)']), 6)\n",
    "# equal size of data\n",
    "# boundaries = [np.percentile(df_B['S(X)'], i) for i in np.linspace(0, 100, 6)]\n",
    "\n",
    "# for i in range(5):\n",
    "#     name = 'Group_{}'.format(i + 1)\n",
    "#     # to include min value in the first group!!!\n",
    "#     if i == 0:\n",
    "#         df_B[name] = ((df_B['S(X)'] >= boundaries[i]) & (df_B['S(X)'] <= boundaries[i + 1])).astype('int')\n",
    "#     else:\n",
    "#         df_B[name] = ((df_B['S(X)'] > boundaries[i]) & (df_B['S(X)'] <= boundaries[i + 1])).astype('int')"
   ]
  },
  {
   "cell_type": "code",
   "execution_count": 27,
   "id": "fdbcb825",
   "metadata": {},
   "outputs": [],
   "source": [
    "# checking validity of the split\n",
    "\n",
    "#print(boundaries)\n",
    "#display(df_B[['S(X)', 'Group_1', 'Group_2', 'Group_3', 'Group_4', 'Group_5']].head(20))\n",
    "#df_B[['Group_1', 'Group_2', 'Group_3', 'Group_4', 'Group_5']].describe()"
   ]
  },
  {
   "cell_type": "markdown",
   "id": "ed833421",
   "metadata": {},
   "source": [
    "## Creating variables for the GATES 1st strategy WLS"
   ]
  },
  {
   "cell_type": "code",
   "execution_count": 28,
   "id": "dd4eec83",
   "metadata": {},
   "outputs": [
    {
     "data": {
      "text/plain": [
       "Index(['x1', 'x2', 'x3', 'x4', 'x5', 'D', 'y', 'p', 's_0(X)', 'B(X)',\n",
       "       'E(Y|D=1)', 'S(X)', 'const', 'D_minus_p',\n",
       "       'D_minus_p_times_S(X)_minus_ES', 'omega(X)', 'Group_1', 'Group_2',\n",
       "       'Group_3', 'Group_4', 'Group_5'],\n",
       "      dtype='object')"
      ]
     },
     "execution_count": 28,
     "metadata": {},
     "output_type": "execute_result"
    }
   ],
   "source": [
    "df_B.columns"
   ]
  },
  {
   "cell_type": "code",
   "execution_count": 29,
   "id": "d3a51ac1",
   "metadata": {},
   "outputs": [],
   "source": [
    "# non-weighted new vars\n",
    "for i in range(5):\n",
    "    name = 'D_minus_p_Group_{}'.format(i + 1)\n",
    "    group_name = 'Group_{}'.format(i + 1)\n",
    "    df_B[name] = df_B['D_minus_p'] * df_B[group_name]"
   ]
  },
  {
   "cell_type": "markdown",
   "id": "9040e40f",
   "metadata": {},
   "source": [
    "### UPD: NO NEED TO CREATE NEW WEIGHTED VARIABLES, SINCE I DO WLS LATER!!!!!! And WLS gives right-scaled coefficients straight away!!!!"
   ]
  },
  {
   "cell_type": "code",
   "execution_count": 30,
   "id": "76844d4d",
   "metadata": {},
   "outputs": [],
   "source": [
    "# weighted new vars\n",
    "#for i in range(5):\n",
    "#    name = 'D_minus_p_Group_{}'.format(i + 1)\n",
    "#    name_weighted = name + '_weighted'\n",
    "#    df_B[name_weighted] = df_B[name] * df_B['omega(X)']\n",
    "\n",
    "#Xs_for_GATES = ['const_weighted', 'B(X)_weighted', 'D_minus_p_Group_1_weighted',\n",
    "#       'D_minus_p_Group_2_weighted', 'D_minus_p_Group_3_weighted',\n",
    "#       'D_minus_p_Group_4_weighted', 'D_minus_p_Group_5_weighted']"
   ]
  },
  {
   "cell_type": "code",
   "execution_count": 31,
   "id": "e3ee08cd",
   "metadata": {},
   "outputs": [],
   "source": [
    "Xs_for_GATES = ['const', 'B(X)', 'D_minus_p_Group_1',\n",
    "       'D_minus_p_Group_2', 'D_minus_p_Group_3',\n",
    "       'D_minus_p_Group_4', 'D_minus_p_Group_5']"
   ]
  },
  {
   "cell_type": "markdown",
   "id": "e3da9903",
   "metadata": {},
   "source": [
    "## Actual GATES WLS"
   ]
  },
  {
   "cell_type": "code",
   "execution_count": 32,
   "id": "514c1d76",
   "metadata": {},
   "outputs": [
    {
     "data": {
      "text/html": [
       "<table class=\"simpletable\">\n",
       "<caption>WLS Regression Results</caption>\n",
       "<tr>\n",
       "  <th>Dep. Variable:</th>            <td>y</td>        <th>  R-squared:         </th> <td>   0.843</td> \n",
       "</tr>\n",
       "<tr>\n",
       "  <th>Model:</th>                   <td>WLS</td>       <th>  Adj. R-squared:    </th> <td>   0.843</td> \n",
       "</tr>\n",
       "<tr>\n",
       "  <th>Method:</th>             <td>Least Squares</td>  <th>  F-statistic:       </th> <td>   4156.</td> \n",
       "</tr>\n",
       "<tr>\n",
       "  <th>Date:</th>             <td>Tue, 31 May 2022</td> <th>  Prob (F-statistic):</th>  <td>  0.00</td>  \n",
       "</tr>\n",
       "<tr>\n",
       "  <th>Time:</th>                 <td>11:24:39</td>     <th>  Log-Likelihood:    </th> <td> -24720.</td> \n",
       "</tr>\n",
       "<tr>\n",
       "  <th>No. Observations:</th>      <td>  5000</td>      <th>  AIC:               </th> <td>4.945e+04</td>\n",
       "</tr>\n",
       "<tr>\n",
       "  <th>Df Residuals:</th>          <td>  4993</td>      <th>  BIC:               </th> <td>4.950e+04</td>\n",
       "</tr>\n",
       "<tr>\n",
       "  <th>Df Model:</th>              <td>     6</td>      <th>                     </th>     <td> </td>    \n",
       "</tr>\n",
       "<tr>\n",
       "  <th>Covariance Type:</th>         <td>HC3</td>       <th>                     </th>     <td> </td>    \n",
       "</tr>\n",
       "</table>\n",
       "<table class=\"simpletable\">\n",
       "<tr>\n",
       "          <td></td>             <th>coef</th>     <th>std err</th>      <th>z</th>      <th>P>|z|</th>  <th>[0.025</th>    <th>0.975]</th>  \n",
       "</tr>\n",
       "<tr>\n",
       "  <th>const</th>             <td>   50.4611</td> <td>    0.488</td> <td>  103.419</td> <td> 0.000</td> <td>   49.505</td> <td>   51.417</td>\n",
       "</tr>\n",
       "<tr>\n",
       "  <th>B(X)</th>              <td>    1.0610</td> <td>    0.013</td> <td>   84.547</td> <td> 0.000</td> <td>    1.036</td> <td>    1.086</td>\n",
       "</tr>\n",
       "<tr>\n",
       "  <th>D_minus_p_Group_1</th> <td>   63.5687</td> <td>    2.415</td> <td>   26.318</td> <td> 0.000</td> <td>   58.835</td> <td>   68.303</td>\n",
       "</tr>\n",
       "<tr>\n",
       "  <th>D_minus_p_Group_2</th> <td>   80.3662</td> <td>    1.907</td> <td>   42.150</td> <td> 0.000</td> <td>   76.629</td> <td>   84.103</td>\n",
       "</tr>\n",
       "<tr>\n",
       "  <th>D_minus_p_Group_3</th> <td>  114.8892</td> <td>    1.676</td> <td>   68.561</td> <td> 0.000</td> <td>  111.605</td> <td>  118.174</td>\n",
       "</tr>\n",
       "<tr>\n",
       "  <th>D_minus_p_Group_4</th> <td>  163.8284</td> <td>    2.205</td> <td>   74.292</td> <td> 0.000</td> <td>  159.506</td> <td>  168.150</td>\n",
       "</tr>\n",
       "<tr>\n",
       "  <th>D_minus_p_Group_5</th> <td>  219.3917</td> <td>    3.296</td> <td>   66.554</td> <td> 0.000</td> <td>  212.931</td> <td>  225.853</td>\n",
       "</tr>\n",
       "</table>\n",
       "<table class=\"simpletable\">\n",
       "<tr>\n",
       "  <th>Omnibus:</th>       <td>203.249</td> <th>  Durbin-Watson:     </th> <td>   2.002</td>\n",
       "</tr>\n",
       "<tr>\n",
       "  <th>Prob(Omnibus):</th> <td> 0.000</td>  <th>  Jarque-Bera (JB):  </th> <td> 236.085</td>\n",
       "</tr>\n",
       "<tr>\n",
       "  <th>Skew:</th>          <td> 0.476</td>  <th>  Prob(JB):          </th> <td>5.43e-52</td>\n",
       "</tr>\n",
       "<tr>\n",
       "  <th>Kurtosis:</th>      <td> 3.476</td>  <th>  Cond. No.          </th> <td>    183.</td>\n",
       "</tr>\n",
       "</table><br/><br/>Notes:<br/>[1] Standard Errors are heteroscedasticity robust (HC3)"
      ],
      "text/plain": [
       "<class 'statsmodels.iolib.summary.Summary'>\n",
       "\"\"\"\n",
       "                            WLS Regression Results                            \n",
       "==============================================================================\n",
       "Dep. Variable:                      y   R-squared:                       0.843\n",
       "Model:                            WLS   Adj. R-squared:                  0.843\n",
       "Method:                 Least Squares   F-statistic:                     4156.\n",
       "Date:                Tue, 31 May 2022   Prob (F-statistic):               0.00\n",
       "Time:                        11:24:39   Log-Likelihood:                -24720.\n",
       "No. Observations:                5000   AIC:                         4.945e+04\n",
       "Df Residuals:                    4993   BIC:                         4.950e+04\n",
       "Df Model:                           6                                         \n",
       "Covariance Type:                  HC3                                         \n",
       "=====================================================================================\n",
       "                        coef    std err          z      P>|z|      [0.025      0.975]\n",
       "-------------------------------------------------------------------------------------\n",
       "const                50.4611      0.488    103.419      0.000      49.505      51.417\n",
       "B(X)                  1.0610      0.013     84.547      0.000       1.036       1.086\n",
       "D_minus_p_Group_1    63.5687      2.415     26.318      0.000      58.835      68.303\n",
       "D_minus_p_Group_2    80.3662      1.907     42.150      0.000      76.629      84.103\n",
       "D_minus_p_Group_3   114.8892      1.676     68.561      0.000     111.605     118.174\n",
       "D_minus_p_Group_4   163.8284      2.205     74.292      0.000     159.506     168.150\n",
       "D_minus_p_Group_5   219.3917      3.296     66.554      0.000     212.931     225.853\n",
       "==============================================================================\n",
       "Omnibus:                      203.249   Durbin-Watson:                   2.002\n",
       "Prob(Omnibus):                  0.000   Jarque-Bera (JB):              236.085\n",
       "Skew:                           0.476   Prob(JB):                     5.43e-52\n",
       "Kurtosis:                       3.476   Cond. No.                         183.\n",
       "==============================================================================\n",
       "\n",
       "Notes:\n",
       "[1] Standard Errors are heteroscedasticity robust (HC3)\n",
       "\"\"\""
      ]
     },
     "execution_count": 32,
     "metadata": {},
     "output_type": "execute_result"
    }
   ],
   "source": [
    "model_GATES = sm.WLS(df_B['y'], df_B[Xs_for_GATES], weights = df_B['omega(X)']).fit(cov_type='HC3')\n",
    "model_GATES.summary()"
   ]
  },
  {
   "cell_type": "code",
   "execution_count": 33,
   "id": "3b4302cc",
   "metadata": {},
   "outputs": [
    {
     "data": {
      "text/plain": [
       "Index(['x1', 'x2', 'x3', 'x4', 'x5', 'D', 'y', 'p', 's_0(X)', 'B(X)',\n",
       "       'E(Y|D=1)', 'S(X)', 'const', 'D_minus_p',\n",
       "       'D_minus_p_times_S(X)_minus_ES', 'omega(X)', 'Group_1', 'Group_2',\n",
       "       'Group_3', 'Group_4', 'Group_5', 'D_minus_p_Group_1',\n",
       "       'D_minus_p_Group_2', 'D_minus_p_Group_3', 'D_minus_p_Group_4',\n",
       "       'D_minus_p_Group_5'],\n",
       "      dtype='object')"
      ]
     },
     "execution_count": 33,
     "metadata": {},
     "output_type": "execute_result"
    }
   ],
   "source": [
    "df_B.columns"
   ]
  },
  {
   "cell_type": "code",
   "execution_count": 34,
   "id": "c667c5c0",
   "metadata": {},
   "outputs": [
    {
     "name": "stdout",
     "output_type": "stream",
     "text": [
      "[65.82446442360884, 82.17506731176141, 114.69277701897298, 162.4411991176005, 220.98851805589752]\n",
      "[63.56870504445645, 80.36622388826655, 114.889237732976, 163.82835841802756, 219.39172152136805]\n",
      "[62.1900708029602, 83.21579970251764, 114.61652273830684, 165.30873967595474, 222.38701915391988]\n"
     ]
    }
   ],
   "source": [
    "group_cols = ['Group_1', 'Group_2', 'Group_3', 'Group_4', 'Group_5']\n",
    "\n",
    "Estimated_GATES = model_GATES.params[-5:]\n",
    "Naive_GATES = [df_B[df_B[group_cols[i]] == 1]['S(X)'].mean() for i in range(5)]\n",
    "True_GATES = [df_B[df_B[group_cols[i]] == 1]['s_0(X)'].mean() for i in range(5)]\n",
    "print(True_GATES)\n",
    "print(list(Estimated_GATES))\n",
    "print(Naive_GATES)"
   ]
  },
  {
   "cell_type": "markdown",
   "id": "11731dc8",
   "metadata": {},
   "source": [
    "# ADD GRAPH LIKE IN THE PAPER!!!"
   ]
  },
  {
   "cell_type": "markdown",
   "id": "95b00e32",
   "metadata": {},
   "source": [
    "## Almost perfect ML estimation does not allow orthogonal estimation to dominate Naive estimation: both estimate GATES almost perfectly!!!!"
   ]
  },
  {
   "cell_type": "markdown",
   "id": "186e1ca2",
   "metadata": {},
   "source": [
    "# NEXT TIME: CHECK THE PLAN, CHECK THE CURRENT WORK DONE, ESPECIALLY GATES PART (I THINK I FULLY REPLICATED, BUT ADD GRAPH FOR TRUE, ESTIMATED, NAIVE, LIKE IN THE PAPER). IF EVERYTHING IS FINE, PROCEED WITH CLAN AND FURTHER ON ACCORDING TO THE PLAN!!!!"
   ]
  },
  {
   "cell_type": "markdown",
   "id": "badff373",
   "metadata": {},
   "source": [
    "# PLAN AS AT 10/05: \n",
    "## 1) Finish graph with GATES \n",
    "## 2) CLAN: covariates and y means in 1st and 5th group of GATES with confidence intervals\n",
    "## 3) Create class with modular, (BLP and CLAN, GATES separately), with important printouts and only df AND MODEL as an input, so it will automatically determine the covariates columns etc AND ALSO RETURNING SOME 1/2ALPHA CONFIDENCE INTERVALS OF NEEDED VALUES (COEF IN BLP, CLAN AND MAYBE GATES) FOR MEDIAN CONFIDENCE INTERVAL CONSTRUCTION, LIKE IN PAGE 19 OF THE PAPER, SO THAT I CAN GENERATE LATER THE MEDIAN CI USING THIS CLASS 5 TIMES FOR 5 DIFFERENT RANDOM SPLITS OF THE DATASET!!! ALSO RETURN THE GRAPHS SO THAT I CAN PRINT THE 5 GRAPHS SIDE-BY-SIDE FOR CONVENIENCE, SO MAYBE BUILD A NADSTROYKA FOR THE CLASS WHICH AUTOMATICALLY DOES 5 DIFFERENT SPLITS AND PRINTS, OUTPUTS MEDIAN STUFF (MAKE AN ACTUAL SUPERCLASS!!!!!!!!!!!!!!!!!!!!!!!!!!!!!!!!!!!!!!!!!!!!!!!!!!!!!!)\n",
    "## 4) In new .ipynb file, copy the class and try to create DGPs so that BLP coefficient is far from being 1!!!!!"
   ]
  },
  {
   "cell_type": "markdown",
   "id": "37b06e19",
   "metadata": {},
   "source": [
    "# GRAPH FOR GATES"
   ]
  },
  {
   "cell_type": "code",
   "execution_count": 35,
   "id": "fa8746c0",
   "metadata": {},
   "outputs": [
    {
     "data": {
      "image/png": "[encoded data removed]",
      "text/plain": [
       "<Figure size 864x576 with 1 Axes>"
      ]
     },
     "metadata": {},
     "output_type": "display_data"
    }
   ],
   "source": [
    "t = ['1', '2', '3', '4', '5']\n",
    "fig = plt.figure(figsize = (12, 8))\n",
    "plt.scatter(t, True_GATES, marker = 'x', s = 200, c = 'black')\n",
    "plt.scatter(t, Estimated_GATES, s = 100, alpha = 1)\n",
    "plt.scatter(t, Naive_GATES, s = 100, alpha = 1)\n",
    "plt.legend(['True GATES', 'Estimated GATES', 'Naive GATES'], fontsize = 17)\n",
    "plt.xlabel('Heterogeneity Group', fontsize = 18)\n",
    "plt.ylabel('E s_0(X)|Group', fontsize = 18)\n",
    "plt.title('GATES Graph', fontsize = 20)\n",
    "plt.show()"
   ]
  },
  {
   "cell_type": "markdown",
   "id": "5d5834fe",
   "metadata": {},
   "source": [
    "# IDEA: FOR SOME MODEL AND HYPERPARAMETERS CHECK THE MSE LOSS AND BLP COEF AND CHECK THE CORRELATION (OF SERIES OF MSE LOSSES AND BLP COEFS WHERE ONE ROW IS THE SET OF HYPERPARAMETERS) AND THE WAY THEY INTERACT WITH EACH OTHER (SPEARMAN CORRELATION AND SO ON)!!! ALSO WHETHER I CAN SELECT TOP 10% OF THE HYPERPARAMETERS BY MSE AND DO BLP COEF MAXIMIZATION ETC!!!!! MAYBE NOT NEEDED, IF USING OPTUNA ETC!!!!"
   ]
  },
  {
   "cell_type": "markdown",
   "id": "54387d26",
   "metadata": {},
   "source": [
    "# III) CLAN\n",
    "## Page 17 of the paper, just do GATES difference and other covariates difference"
   ]
  },
  {
   "cell_type": "markdown",
   "id": "d09fe201",
   "metadata": {},
   "source": [
    "# I DON'T KNOW HOW THE P-VALUE AND CONFIDENCE INTERVALS OF DIFFERENCE IS DONE (45:15 OF CHERNOZHUKOV'S MLESI21 VIDEO)??????? DID HE ASSUME THE INDEPENDENCE OF THE TREATMENT EFFECTS OF THE DIFFERENT GROUPS FROM EACH OTHER. IT ACTUALLY SOUNDS LOGICAL, BUT IT SEEMS THAT IT'S NOT THE CASE, ACCORDING TO THE INTERVAL LENGTHS IN THE VIDEO (OR IS IT, MAYBE THE FORMULA IS TRICKIER)!!!! MAYBE CHECK THE PAPER AND ARTICLE MORE CAREFULLY IF THIS BIT IS IMPORTANT!!! ASK NIKITA ABOUT THAT!!!"
   ]
  },
  {
   "cell_type": "markdown",
   "id": "6203bd02",
   "metadata": {},
   "source": [
    "# ALSO TO CALCULATE MEDIAN CONFIDENCE INTERVALS HE USUALLY DOES 100 SPLITS!!!! I FIRSTLY EXPECTED AROUND 5 SPLITS!!!\n",
    "# And it's not about doing 100 splits, getting 100 points and creating confidence intervals, based on 100 points from 100 splits data, no, he first calculate confidence intervals for each of 100 splits and then does median CI!!!"
   ]
  },
  {
   "cell_type": "markdown",
   "id": "e478de2a",
   "metadata": {},
   "source": [
    "# SO ASK NIKITA ABOUT SUCH SIMULTANEOUS INTERVALS AND WHAT TO DO WITH THAT, BUT NOW PROCEED WITH SIMPLE CONFIDENCE INTERVALS AND THEN CHANGE IT ONTO SIMULTANEOUS ONES IF NEEDED!!!!"
   ]
  },
  {
   "cell_type": "code",
   "execution_count": 36,
   "id": "78b0e0c3",
   "metadata": {},
   "outputs": [
    {
     "data": {
      "text/html": [
       "<div>\n",
       "<style scoped>\n",
       "    .dataframe tbody tr th:only-of-type {\n",
       "        vertical-align: middle;\n",
       "    }\n",
       "\n",
       "    .dataframe tbody tr th {\n",
       "        vertical-align: top;\n",
       "    }\n",
       "\n",
       "    .dataframe thead th {\n",
       "        text-align: right;\n",
       "    }\n",
       "</style>\n",
       "<table border=\"1\" class=\"dataframe\">\n",
       "  <thead>\n",
       "    <tr style=\"text-align: right;\">\n",
       "      <th></th>\n",
       "      <th>x1</th>\n",
       "      <th>x2</th>\n",
       "      <th>x3</th>\n",
       "      <th>x4</th>\n",
       "      <th>x5</th>\n",
       "      <th>D</th>\n",
       "      <th>y</th>\n",
       "      <th>p</th>\n",
       "      <th>s_0(X)</th>\n",
       "      <th>B(X)</th>\n",
       "      <th>...</th>\n",
       "      <th>Group_1</th>\n",
       "      <th>Group_2</th>\n",
       "      <th>Group_3</th>\n",
       "      <th>Group_4</th>\n",
       "      <th>Group_5</th>\n",
       "      <th>D_minus_p_Group_1</th>\n",
       "      <th>D_minus_p_Group_2</th>\n",
       "      <th>D_minus_p_Group_3</th>\n",
       "      <th>D_minus_p_Group_4</th>\n",
       "      <th>D_minus_p_Group_5</th>\n",
       "    </tr>\n",
       "  </thead>\n",
       "  <tbody>\n",
       "    <tr>\n",
       "      <th>1</th>\n",
       "      <td>0.113478</td>\n",
       "      <td>1.952099</td>\n",
       "      <td>12.554939</td>\n",
       "      <td>5.891914</td>\n",
       "      <td>3.417984</td>\n",
       "      <td>0</td>\n",
       "      <td>-25.246913</td>\n",
       "      <td>0.510720</td>\n",
       "      <td>174.112055</td>\n",
       "      <td>5.504862</td>\n",
       "      <td>...</td>\n",
       "      <td>0.0</td>\n",
       "      <td>0.0</td>\n",
       "      <td>0.0</td>\n",
       "      <td>1.0</td>\n",
       "      <td>0.0</td>\n",
       "      <td>-0.00000</td>\n",
       "      <td>-0.000000</td>\n",
       "      <td>-0.000000</td>\n",
       "      <td>-0.51072</td>\n",
       "      <td>-0.0</td>\n",
       "    </tr>\n",
       "    <tr>\n",
       "      <th>2</th>\n",
       "      <td>0.698070</td>\n",
       "      <td>1.510368</td>\n",
       "      <td>10.737484</td>\n",
       "      <td>23.936492</td>\n",
       "      <td>-0.982472</td>\n",
       "      <td>1</td>\n",
       "      <td>74.214096</td>\n",
       "      <td>0.486787</td>\n",
       "      <td>91.193897</td>\n",
       "      <td>-23.300500</td>\n",
       "      <td>...</td>\n",
       "      <td>0.0</td>\n",
       "      <td>0.0</td>\n",
       "      <td>1.0</td>\n",
       "      <td>0.0</td>\n",
       "      <td>0.0</td>\n",
       "      <td>0.00000</td>\n",
       "      <td>0.000000</td>\n",
       "      <td>0.513213</td>\n",
       "      <td>0.00000</td>\n",
       "      <td>0.0</td>\n",
       "    </tr>\n",
       "    <tr>\n",
       "      <th>7</th>\n",
       "      <td>2.303411</td>\n",
       "      <td>-2.453674</td>\n",
       "      <td>9.559623</td>\n",
       "      <td>9.219513</td>\n",
       "      <td>1.638712</td>\n",
       "      <td>0</td>\n",
       "      <td>18.614679</td>\n",
       "      <td>0.394673</td>\n",
       "      <td>75.261756</td>\n",
       "      <td>34.747788</td>\n",
       "      <td>...</td>\n",
       "      <td>0.0</td>\n",
       "      <td>1.0</td>\n",
       "      <td>0.0</td>\n",
       "      <td>0.0</td>\n",
       "      <td>0.0</td>\n",
       "      <td>-0.00000</td>\n",
       "      <td>-0.394673</td>\n",
       "      <td>-0.000000</td>\n",
       "      <td>-0.00000</td>\n",
       "      <td>-0.0</td>\n",
       "    </tr>\n",
       "    <tr>\n",
       "      <th>8</th>\n",
       "      <td>-0.453174</td>\n",
       "      <td>-5.073321</td>\n",
       "      <td>11.321234</td>\n",
       "      <td>9.973765</td>\n",
       "      <td>-3.911518</td>\n",
       "      <td>1</td>\n",
       "      <td>61.129144</td>\n",
       "      <td>0.254191</td>\n",
       "      <td>122.268300</td>\n",
       "      <td>-72.867605</td>\n",
       "      <td>...</td>\n",
       "      <td>0.0</td>\n",
       "      <td>0.0</td>\n",
       "      <td>1.0</td>\n",
       "      <td>0.0</td>\n",
       "      <td>0.0</td>\n",
       "      <td>0.00000</td>\n",
       "      <td>0.000000</td>\n",
       "      <td>0.745809</td>\n",
       "      <td>0.00000</td>\n",
       "      <td>0.0</td>\n",
       "    </tr>\n",
       "    <tr>\n",
       "      <th>9</th>\n",
       "      <td>1.300373</td>\n",
       "      <td>-4.672497</td>\n",
       "      <td>8.682191</td>\n",
       "      <td>21.993878</td>\n",
       "      <td>-3.037796</td>\n",
       "      <td>0</td>\n",
       "      <td>15.603340</td>\n",
       "      <td>0.280280</td>\n",
       "      <td>78.667302</td>\n",
       "      <td>8.452007</td>\n",
       "      <td>...</td>\n",
       "      <td>1.0</td>\n",
       "      <td>0.0</td>\n",
       "      <td>0.0</td>\n",
       "      <td>0.0</td>\n",
       "      <td>0.0</td>\n",
       "      <td>-0.28028</td>\n",
       "      <td>-0.000000</td>\n",
       "      <td>-0.000000</td>\n",
       "      <td>-0.00000</td>\n",
       "      <td>-0.0</td>\n",
       "    </tr>\n",
       "  </tbody>\n",
       "</table>\n",
       "<p>5 rows × 26 columns</p>\n",
       "</div>"
      ],
      "text/plain": [
       "         x1        x2         x3         x4        x5  D          y         p  \\\n",
       "1  0.113478  1.952099  12.554939   5.891914  3.417984  0 -25.246913  0.510720   \n",
       "2  0.698070  1.510368  10.737484  23.936492 -0.982472  1  74.214096  0.486787   \n",
       "7  2.303411 -2.453674   9.559623   9.219513  1.638712  0  18.614679  0.394673   \n",
       "8 -0.453174 -5.073321  11.321234   9.973765 -3.911518  1  61.129144  0.254191   \n",
       "9  1.300373 -4.672497   8.682191  21.993878 -3.037796  0  15.603340  0.280280   \n",
       "\n",
       "       s_0(X)       B(X)  ...  Group_1  Group_2  Group_3  Group_4  Group_5  \\\n",
       "1  174.112055   5.504862  ...      0.0      0.0      0.0      1.0      0.0   \n",
       "2   91.193897 -23.300500  ...      0.0      0.0      1.0      0.0      0.0   \n",
       "7   75.261756  34.747788  ...      0.0      1.0      0.0      0.0      0.0   \n",
       "8  122.268300 -72.867605  ...      0.0      0.0      1.0      0.0      0.0   \n",
       "9   78.667302   8.452007  ...      1.0      0.0      0.0      0.0      0.0   \n",
       "\n",
       "   D_minus_p_Group_1  D_minus_p_Group_2  D_minus_p_Group_3  D_minus_p_Group_4  \\\n",
       "1           -0.00000          -0.000000          -0.000000           -0.51072   \n",
       "2            0.00000           0.000000           0.513213            0.00000   \n",
       "7           -0.00000          -0.394673          -0.000000           -0.00000   \n",
       "8            0.00000           0.000000           0.745809            0.00000   \n",
       "9           -0.28028          -0.000000          -0.000000           -0.00000   \n",
       "\n",
       "   D_minus_p_Group_5  \n",
       "1               -0.0  \n",
       "2                0.0  \n",
       "7               -0.0  \n",
       "8                0.0  \n",
       "9               -0.0  \n",
       "\n",
       "[5 rows x 26 columns]"
      ]
     },
     "execution_count": 36,
     "metadata": {},
     "output_type": "execute_result"
    }
   ],
   "source": [
    "df_B.head()"
   ]
  },
  {
   "cell_type": "code",
   "execution_count": 37,
   "id": "f444ff9c",
   "metadata": {},
   "outputs": [
    {
     "data": {
      "text/plain": [
       "Index(['x1', 'x2', 'x3', 'x4', 'x5', 'D', 'y', 'p', 's_0(X)', 'B(X)',\n",
       "       'E(Y|D=1)', 'S(X)', 'const', 'D_minus_p',\n",
       "       'D_minus_p_times_S(X)_minus_ES', 'omega(X)', 'Group_1', 'Group_2',\n",
       "       'Group_3', 'Group_4', 'Group_5', 'D_minus_p_Group_1',\n",
       "       'D_minus_p_Group_2', 'D_minus_p_Group_3', 'D_minus_p_Group_4',\n",
       "       'D_minus_p_Group_5'],\n",
       "      dtype='object')"
      ]
     },
     "execution_count": 37,
     "metadata": {},
     "output_type": "execute_result"
    }
   ],
   "source": [
    "df_B.columns"
   ]
  },
  {
   "cell_type": "markdown",
   "id": "3037dc3a",
   "metadata": {},
   "source": [
    "# CHECK CAREFULLY TABLES 4, 5, 6 (PAGES 38-40 OF THE PAPER) OF WHAT CAN BE DONE AS A GATES/CLAN ANALYSIS!!!!"
   ]
  },
  {
   "cell_type": "code",
   "execution_count": 38,
   "id": "6029c699",
   "metadata": {},
   "outputs": [],
   "source": [
    "df_B_group1 = df_B[df_B['Group_1'] == 1]\n",
    "df_B_group5 = df_B[df_B['Group_5'] == 1]\n",
    "# leave only needed columns for CLAN, based on tables 4, 5, 6 from the paper!!!!\n",
    "cols_for_CLAN = ['x1', 'x2', 'x3', 'x4', 'x5', 'D', 'y', 'p', 's_0(X)', 'B(X)',\n",
    "       'E(Y|D=1)', 'S(X)']"
   ]
  },
  {
   "cell_type": "markdown",
   "id": "044b8859",
   "metadata": {},
   "source": [
    "# 12/05: CHECK 12/05 MEETING WITH NIKITA NOTES\n",
    "\n",
    "# QUESTION: WHETHER WE CAN SIMPLY USE COVARIANCE MATRIX OF REGRESSION COEFFICIENTS FOR 'SORTED DATA', I.E. FOR COVARIATES WE ASSUME I.I.D SO NO COVARIANCE, BUT IF SORTED SMTH MAY CHANGE, AND HERE AS WELL, FOR I.I.D DATA WE HAVE COVAR MATRIX, BUT MAYBE HERE SMTH CHANGES AS WELL AFTER SORTING???? BUT NOW I WILL STILL PROCEED WITH GATES CI ASSUMING THAT I CAN SIMPLY USE COVARIANCE MATRIX\n",
    "\n",
    "### ANOTHER QUESTION (UPD: ANSWERED, ON PAGE 7 OF THE LECTURE 1 BELOW: USE WHITE FOR INDEPENDENT SAMPLES AND NEWEY-WEST FOR THE TIME SERIES!!!): WHETHER I SHOULD USE SIMPLE OR ROBUST STANDARD ERRORS IN THE REGRESSIONS???\n",
    "\n",
    "# READ LECTURE 1 HERE: https://ocw.mit.edu/courses/14-382-econometrics-spring-2017/c62d33e015c910b0d126bcc9344cf2c5_MIT14_382S17_lec1.pdf (ALSO YOU CAN FIND LECTURES IN COMPUTER) AND MAYBE YOU WILL FIND ANSWERS TO THE TWO QUESTIONS ABOVE THERE!!! IF NO INFO AND EXAMPLE THERE IS NOT QUITE CLOSE TO OUR CASE (NO SORTING OF DATA), THEN ASK NIKITA!!!!!\n",
    "\n",
    "### YES, QUESTION ABOUT ERRORS IS ANSWERED:  ON PAGE 7 OF THE LECTURE 1 BELOW: USE WHITE FOR INDEPENDENT SAMPLES AND NEWEY-WEST FOR THE TIME SERIES!!! \n",
    "\n",
    "# SO IN BASELINE (IID), USE WHITE ESTIMATOR IN EVERY REGRESSION!!!! AND IF DGP IS TIME-SERIES (NON-IID), USE NEWEY-WEST!!!\n",
    "\n",
    "# ALSO CHECK IN THE PAPER / QUESTION!!!!!!: DOES THE THEORY THERE EXPAND ONTO NON IID, SO THAT I CAN TRY TIME-SERIES DGP AS WELL????????\n",
    "\n",
    "# IDEA OF BONFERRONI 'WIDER' BOUND OF SCI CAN BE FOUND ON PAGES END13-START14 IN THE SAME LECTURE 1!!!!!!!"
   ]
  },
  {
   "cell_type": "markdown",
   "id": "a5626965",
   "metadata": {},
   "source": [
    "# WELL, AS FOR THE SECOND QUESTION, EXAMPLE IN THE PAPER IS NOT SIMILAR, SO ASK NIKITA THE QUESTION ABOVE!!! I THINK MAYBE USING NEWEY-WEST ESTIMATION MAY SOLVE THE PROBLEM, IF THE PROBLEM EXISTS (SORTED DATA BECOMES SIMILAR TO AUTOCORRELATIVE ONE SMTH LIKE THAT)!!!"
   ]
  },
  {
   "cell_type": "markdown",
   "id": "05e19abc",
   "metadata": {},
   "source": [
    "# TOMORROW: READ OR SKIM THROUGH MOSTLY HARMLESS ECONOMETRICS UNTIL PART 3.3. WITH PROPENSITY SCORE WEIGHTING!!!!!"
   ]
  },
  {
   "cell_type": "code",
   "execution_count": null,
   "id": "06c33568",
   "metadata": {},
   "outputs": [],
   "source": []
  },
  {
   "cell_type": "markdown",
   "id": "d563f2e1",
   "metadata": {},
   "source": [
    "# III) CLAN: \n",
    "## a) Analysis of the GATES, CI taken from the Chernozhukov's 1st lecture: \n",
    "### https://ocw.mit.edu/courses/14-382-econometrics-spring-2017/c62d33e015c910b0d126bcc9344cf2c5_MIT14_382S17_lec1.pdf"
   ]
  },
  {
   "cell_type": "markdown",
   "id": "b9277401",
   "metadata": {},
   "source": [
    "### getting gates from above"
   ]
  },
  {
   "cell_type": "code",
   "execution_count": 39,
   "id": "08a39e57",
   "metadata": {
    "scrolled": true
   },
   "outputs": [
    {
     "data": {
      "text/html": [
       "<table class=\"simpletable\">\n",
       "<caption>WLS Regression Results</caption>\n",
       "<tr>\n",
       "  <th>Dep. Variable:</th>            <td>y</td>        <th>  R-squared:         </th> <td>   0.843</td> \n",
       "</tr>\n",
       "<tr>\n",
       "  <th>Model:</th>                   <td>WLS</td>       <th>  Adj. R-squared:    </th> <td>   0.843</td> \n",
       "</tr>\n",
       "<tr>\n",
       "  <th>Method:</th>             <td>Least Squares</td>  <th>  F-statistic:       </th> <td>   4156.</td> \n",
       "</tr>\n",
       "<tr>\n",
       "  <th>Date:</th>             <td>Tue, 31 May 2022</td> <th>  Prob (F-statistic):</th>  <td>  0.00</td>  \n",
       "</tr>\n",
       "<tr>\n",
       "  <th>Time:</th>                 <td>11:24:40</td>     <th>  Log-Likelihood:    </th> <td> -24720.</td> \n",
       "</tr>\n",
       "<tr>\n",
       "  <th>No. Observations:</th>      <td>  5000</td>      <th>  AIC:               </th> <td>4.945e+04</td>\n",
       "</tr>\n",
       "<tr>\n",
       "  <th>Df Residuals:</th>          <td>  4993</td>      <th>  BIC:               </th> <td>4.950e+04</td>\n",
       "</tr>\n",
       "<tr>\n",
       "  <th>Df Model:</th>              <td>     6</td>      <th>                     </th>     <td> </td>    \n",
       "</tr>\n",
       "<tr>\n",
       "  <th>Covariance Type:</th>         <td>HC3</td>       <th>                     </th>     <td> </td>    \n",
       "</tr>\n",
       "</table>\n",
       "<table class=\"simpletable\">\n",
       "<tr>\n",
       "          <td></td>             <th>coef</th>     <th>std err</th>      <th>z</th>      <th>P>|z|</th>  <th>[0.025</th>    <th>0.975]</th>  \n",
       "</tr>\n",
       "<tr>\n",
       "  <th>const</th>             <td>   50.4611</td> <td>    0.488</td> <td>  103.419</td> <td> 0.000</td> <td>   49.505</td> <td>   51.417</td>\n",
       "</tr>\n",
       "<tr>\n",
       "  <th>B(X)</th>              <td>    1.0610</td> <td>    0.013</td> <td>   84.547</td> <td> 0.000</td> <td>    1.036</td> <td>    1.086</td>\n",
       "</tr>\n",
       "<tr>\n",
       "  <th>D_minus_p_Group_1</th> <td>   63.5687</td> <td>    2.415</td> <td>   26.318</td> <td> 0.000</td> <td>   58.835</td> <td>   68.303</td>\n",
       "</tr>\n",
       "<tr>\n",
       "  <th>D_minus_p_Group_2</th> <td>   80.3662</td> <td>    1.907</td> <td>   42.150</td> <td> 0.000</td> <td>   76.629</td> <td>   84.103</td>\n",
       "</tr>\n",
       "<tr>\n",
       "  <th>D_minus_p_Group_3</th> <td>  114.8892</td> <td>    1.676</td> <td>   68.561</td> <td> 0.000</td> <td>  111.605</td> <td>  118.174</td>\n",
       "</tr>\n",
       "<tr>\n",
       "  <th>D_minus_p_Group_4</th> <td>  163.8284</td> <td>    2.205</td> <td>   74.292</td> <td> 0.000</td> <td>  159.506</td> <td>  168.150</td>\n",
       "</tr>\n",
       "<tr>\n",
       "  <th>D_minus_p_Group_5</th> <td>  219.3917</td> <td>    3.296</td> <td>   66.554</td> <td> 0.000</td> <td>  212.931</td> <td>  225.853</td>\n",
       "</tr>\n",
       "</table>\n",
       "<table class=\"simpletable\">\n",
       "<tr>\n",
       "  <th>Omnibus:</th>       <td>203.249</td> <th>  Durbin-Watson:     </th> <td>   2.002</td>\n",
       "</tr>\n",
       "<tr>\n",
       "  <th>Prob(Omnibus):</th> <td> 0.000</td>  <th>  Jarque-Bera (JB):  </th> <td> 236.085</td>\n",
       "</tr>\n",
       "<tr>\n",
       "  <th>Skew:</th>          <td> 0.476</td>  <th>  Prob(JB):          </th> <td>5.43e-52</td>\n",
       "</tr>\n",
       "<tr>\n",
       "  <th>Kurtosis:</th>      <td> 3.476</td>  <th>  Cond. No.          </th> <td>    183.</td>\n",
       "</tr>\n",
       "</table><br/><br/>Notes:<br/>[1] Standard Errors are heteroscedasticity robust (HC3)"
      ],
      "text/plain": [
       "<class 'statsmodels.iolib.summary.Summary'>\n",
       "\"\"\"\n",
       "                            WLS Regression Results                            \n",
       "==============================================================================\n",
       "Dep. Variable:                      y   R-squared:                       0.843\n",
       "Model:                            WLS   Adj. R-squared:                  0.843\n",
       "Method:                 Least Squares   F-statistic:                     4156.\n",
       "Date:                Tue, 31 May 2022   Prob (F-statistic):               0.00\n",
       "Time:                        11:24:40   Log-Likelihood:                -24720.\n",
       "No. Observations:                5000   AIC:                         4.945e+04\n",
       "Df Residuals:                    4993   BIC:                         4.950e+04\n",
       "Df Model:                           6                                         \n",
       "Covariance Type:                  HC3                                         \n",
       "=====================================================================================\n",
       "                        coef    std err          z      P>|z|      [0.025      0.975]\n",
       "-------------------------------------------------------------------------------------\n",
       "const                50.4611      0.488    103.419      0.000      49.505      51.417\n",
       "B(X)                  1.0610      0.013     84.547      0.000       1.036       1.086\n",
       "D_minus_p_Group_1    63.5687      2.415     26.318      0.000      58.835      68.303\n",
       "D_minus_p_Group_2    80.3662      1.907     42.150      0.000      76.629      84.103\n",
       "D_minus_p_Group_3   114.8892      1.676     68.561      0.000     111.605     118.174\n",
       "D_minus_p_Group_4   163.8284      2.205     74.292      0.000     159.506     168.150\n",
       "D_minus_p_Group_5   219.3917      3.296     66.554      0.000     212.931     225.853\n",
       "==============================================================================\n",
       "Omnibus:                      203.249   Durbin-Watson:                   2.002\n",
       "Prob(Omnibus):                  0.000   Jarque-Bera (JB):              236.085\n",
       "Skew:                           0.476   Prob(JB):                     5.43e-52\n",
       "Kurtosis:                       3.476   Cond. No.                         183.\n",
       "==============================================================================\n",
       "\n",
       "Notes:\n",
       "[1] Standard Errors are heteroscedasticity robust (HC3)\n",
       "\"\"\""
      ]
     },
     "execution_count": 39,
     "metadata": {},
     "output_type": "execute_result"
    }
   ],
   "source": [
    "model_GATES = sm.WLS(df_B['y'], df_B[Xs_for_GATES], weights = df_B['omega(X)']).fit(cov_type='HC3')\n",
    "model_GATES.summary()"
   ]
  },
  {
   "cell_type": "markdown",
   "id": "4968e809",
   "metadata": {},
   "source": [
    "# SECOND METRIC OF MODEL QUALITY FROM THE PAPER (SECOND CANDIDATE OF TARGET IN HYPERPARAMETER TUNING)"
   ]
  },
  {
   "cell_type": "code",
   "execution_count": 40,
   "id": "35cd0343",
   "metadata": {},
   "outputs": [
    {
     "data": {
      "text/plain": [
       "19734.341128801516"
      ]
     },
     "execution_count": 40,
     "metadata": {},
     "output_type": "execute_result"
    }
   ],
   "source": [
    "# assuming that there will always be a partition onto 5 groups, SO TAKING LAST 5 PARAMETERS HERE IS ALWAYS CORRECT!!!!!!\n",
    "Lambda_bar_hat = 0.2 * np.sum(model_GATES.params[-5:] ** 2)\n",
    "Lambda_bar_hat"
   ]
  },
  {
   "cell_type": "code",
   "execution_count": null,
   "id": "16e40947",
   "metadata": {},
   "outputs": [],
   "source": []
  },
  {
   "cell_type": "code",
   "execution_count": 41,
   "id": "3dcf964c",
   "metadata": {},
   "outputs": [
    {
     "data": {
      "text/html": [
       "<div>\n",
       "<style scoped>\n",
       "    .dataframe tbody tr th:only-of-type {\n",
       "        vertical-align: middle;\n",
       "    }\n",
       "\n",
       "    .dataframe tbody tr th {\n",
       "        vertical-align: top;\n",
       "    }\n",
       "\n",
       "    .dataframe thead th {\n",
       "        text-align: right;\n",
       "    }\n",
       "</style>\n",
       "<table border=\"1\" class=\"dataframe\">\n",
       "  <thead>\n",
       "    <tr style=\"text-align: right;\">\n",
       "      <th></th>\n",
       "      <th>D_minus_p_Group_1</th>\n",
       "      <th>D_minus_p_Group_2</th>\n",
       "      <th>D_minus_p_Group_3</th>\n",
       "      <th>D_minus_p_Group_4</th>\n",
       "      <th>D_minus_p_Group_5</th>\n",
       "    </tr>\n",
       "  </thead>\n",
       "  <tbody>\n",
       "    <tr>\n",
       "      <th>D_minus_p_Group_1</th>\n",
       "      <td>5.834382</td>\n",
       "      <td>0.006584</td>\n",
       "      <td>0.004204</td>\n",
       "      <td>-0.004572</td>\n",
       "      <td>-0.011036</td>\n",
       "    </tr>\n",
       "    <tr>\n",
       "      <th>D_minus_p_Group_2</th>\n",
       "      <td>0.006584</td>\n",
       "      <td>3.635432</td>\n",
       "      <td>-0.003309</td>\n",
       "      <td>-0.005287</td>\n",
       "      <td>-0.002919</td>\n",
       "    </tr>\n",
       "    <tr>\n",
       "      <th>D_minus_p_Group_3</th>\n",
       "      <td>0.004204</td>\n",
       "      <td>-0.003309</td>\n",
       "      <td>2.808009</td>\n",
       "      <td>0.007237</td>\n",
       "      <td>0.008959</td>\n",
       "    </tr>\n",
       "    <tr>\n",
       "      <th>D_minus_p_Group_4</th>\n",
       "      <td>-0.004572</td>\n",
       "      <td>-0.005287</td>\n",
       "      <td>0.007237</td>\n",
       "      <td>4.862912</td>\n",
       "      <td>0.006042</td>\n",
       "    </tr>\n",
       "    <tr>\n",
       "      <th>D_minus_p_Group_5</th>\n",
       "      <td>-0.011036</td>\n",
       "      <td>-0.002919</td>\n",
       "      <td>0.008959</td>\n",
       "      <td>0.006042</td>\n",
       "      <td>10.866637</td>\n",
       "    </tr>\n",
       "  </tbody>\n",
       "</table>\n",
       "</div>"
      ],
      "text/plain": [
       "                   D_minus_p_Group_1  D_minus_p_Group_2  D_minus_p_Group_3  \\\n",
       "D_minus_p_Group_1           5.834382           0.006584           0.004204   \n",
       "D_minus_p_Group_2           0.006584           3.635432          -0.003309   \n",
       "D_minus_p_Group_3           0.004204          -0.003309           2.808009   \n",
       "D_minus_p_Group_4          -0.004572          -0.005287           0.007237   \n",
       "D_minus_p_Group_5          -0.011036          -0.002919           0.008959   \n",
       "\n",
       "                   D_minus_p_Group_4  D_minus_p_Group_5  \n",
       "D_minus_p_Group_1          -0.004572          -0.011036  \n",
       "D_minus_p_Group_2          -0.005287          -0.002919  \n",
       "D_minus_p_Group_3           0.007237           0.008959  \n",
       "D_minus_p_Group_4           4.862912           0.006042  \n",
       "D_minus_p_Group_5           0.006042          10.866637  "
      ]
     },
     "execution_count": 41,
     "metadata": {},
     "output_type": "execute_result"
    }
   ],
   "source": [
    "model_GATES.cov_params().iloc[2:, 2:]"
   ]
  },
  {
   "cell_type": "markdown",
   "id": "1ae64d35",
   "metadata": {},
   "source": [
    "# SO FINALLY: IN ALL SCI FOR THE DIFFERENCE, GIVEN DATA SPLIT, THERE IS NO CORRELATION BETWEEN 5TH GROUP VALUE AND 1ST GROUP VALUE (CLAN OR GATES) DUE TO ORTHOGONALIZATION IN GATES AND INDEPENDENCE (IID) IN CLAN. AND MAY BE SOME SMALL CORRELATION IF CHANGING DATA SPLIT!!!!!"
   ]
  },
  {
   "cell_type": "markdown",
   "id": "8ba254c2",
   "metadata": {},
   "source": [
    "## The covariances of coefficients is zero!!!! Is it because ORTHOGONALIZATION WAS DONE??? So basically I'm going to find in this case, quantiles of maximum out of 5 indep. normal distributions as a critical value (that's what happens if plugging in diagonal matrix into Chernozhukov's lecture formula!!!! But actually this is not consistent with the confidence interval for the difference!!!!!! In the table of Chernozhukov's papers!!!\n",
    "# Maybe exists some tricky way "
   ]
  },
  {
   "cell_type": "markdown",
   "id": "12f0417c",
   "metadata": {},
   "source": [
    "# On page 30, you can find info for the confidence intervals, so it's quite consistent with first lecture of Chernozhukov, but not sure about differences!!!! Maybe read the papers about confidence bands, mentioned in the bibliography of the paper!!! But maybe this method is consistent, it's just not correct to claim that the covariance matrix is diagonal (UPD: IT IS, THERE IS ORTHOGONALIZATION DONE, PAGE 15, maybe I got diagonal, since My ML estimation S is quite good estimator of s_0!!!!?????"
   ]
  },
  {
   "cell_type": "markdown",
   "id": "3b67c74c",
   "metadata": {},
   "source": [
    "# What is meant by: The joint confidence intervals could also be improved by intersecting them with the set of monotone functions????"
   ]
  },
  {
   "cell_type": "markdown",
   "id": "4bd76fda",
   "metadata": {},
   "source": [
    "# Page 30, monotonize the band (6.1) with respect to k using the rearrangement method of Chernozhulov et al. (2009)!!  The Annals of Statistics, 42(5):1787–1818, 2014."
   ]
  },
  {
   "cell_type": "markdown",
   "id": "a9e9b2db",
   "metadata": {},
   "source": [
    "# As for the variables confidence intervals, from table it can be seen that assumption of 0 correlation is used!!!!!!\n",
    "# AS for GATES, intervals are 2-6% larger than they should be if coefs have 0 correlation, MAYBE ALTHOUGH ORTHOGONALIZATION, I SHOULD CONSIDER CLOSE TO ZERO COVARIANCES OF THE COEFS, LIKE IN THE COV TABLE ABOVE???? (I.E USING -0.02 COVARIANCE, BUT THE EFFECT OF IT IS VERY INSIGNIFICANT, SO IT MUST BE SMTH ELSE!!!!!)\n",
    "# Maybe this discrepancy is because of the median afterwards!!!??? Strange that no such discrepancy for means of vars, maybe for means of vars there is no correlation if compare different splits, but for regr. GATES coefs, depending on data split, coefs move in same/opposite directions!!!! So assume that in both GATES and CLAN THERE ARE INDEPENDENT vars and do SIMULTANEOUS CONF INTERVALS AND THEN LATER DO DIFFERENT DATA SPLITS AND CHECK MEDIAN CONF INTERVALS AND COMPARE THE 'DISCREPANCY' LIKE IN THE CHERNOZHUKOV'S VIDEO AND PAPER (2-6% 'DISCREPANCY' MENTIONED ABOVE)!!!!!\n",
    "\n",
    "# SO FINALLY: IN ALL SCI FOR THE DIFFERENCE, GIVEN DATA SPLIT, THERE IS NO CORRELATION BETWEEN 5TH GROUP VALUE AND 1ST GROUP VALUE (CLAN OR GATES) DUE TO ORTHOGONALIZATION IN GATES AND INDEPENDENCE (IID) IN CLAN. AND MAY BE SOME SMALL CORRELATION IF CHANGING DATA SPLIT!!!!!"
   ]
  },
  {
   "cell_type": "code",
   "execution_count": null,
   "id": "974bd74d",
   "metadata": {},
   "outputs": [],
   "source": []
  },
  {
   "cell_type": "markdown",
   "id": "138d51f9",
   "metadata": {},
   "source": [
    "# Proceeding with simultaneous confidence intervals!!!"
   ]
  },
  {
   "cell_type": "code",
   "execution_count": 42,
   "id": "87067a48",
   "metadata": {},
   "outputs": [],
   "source": [
    "# 500000 samples of Max (absolute value) out of 5 standard normals\n",
    "k = np.max(np.abs(np.random.multivariate_normal(np.zeros(5), np.identity(5), 500000)), axis = 1)"
   ]
  },
  {
   "cell_type": "code",
   "execution_count": 43,
   "id": "c2bf5a51",
   "metadata": {},
   "outputs": [
    {
     "data": {
      "text/plain": [
       "2.798227062213706"
      ]
     },
     "execution_count": 43,
     "metadata": {},
     "output_type": "execute_result"
    }
   ],
   "source": [
    "# critical value for two-sided 97.5% interval!!!! (taking not 98.75%, since used np.abs above!!!!)\n",
    "# DOING 97.5% SINCE AFTERWARDS I WILL DO MEDIANS AND INTERVAL WILL BECOME 95%!!!!\n",
    "crit_val_simult = np.percentile(k, 97.5)\n",
    "crit_val_simult"
   ]
  },
  {
   "cell_type": "code",
   "execution_count": 44,
   "id": "8581ca59",
   "metadata": {},
   "outputs": [],
   "source": [
    "# SE of coefs, and coefs themselves\n",
    "EST_GATES = model_GATES.params[-5:]\n",
    "SE_EST_GATES = model_GATES.bse[-5:]"
   ]
  },
  {
   "cell_type": "markdown",
   "id": "94c7c39d",
   "metadata": {},
   "source": [
    "# So do the tables with GATES params (GROUPS ATEs!!!!!) and conf intervals (OR GRAPH) and then do CLAN GATES AND CLAN WITH 1ST GROUP ESTIMATE AND CI, 5TH GROUP ESTIMATE AND CI AND THE DIFFERENT IN 1ST AND 5TH GROUP!!!! And compare it with real ones, so include it in the table!!!! So split data onto 5 groups BY REAL s_0 AND COMPARE ESTIMATES!!!"
   ]
  },
  {
   "cell_type": "code",
   "execution_count": 45,
   "id": "941f1353",
   "metadata": {},
   "outputs": [],
   "source": [
    "# simult CI for the GATES in estimated groups!!!\n",
    "simult_CI_L_EST_GATES = EST_GATES - crit_val_simult * SE_EST_GATES\n",
    "simult_CI_U_EST_GATES = EST_GATES + crit_val_simult * SE_EST_GATES"
   ]
  },
  {
   "cell_type": "markdown",
   "id": "5bf56964",
   "metadata": {},
   "source": [
    "### Grouping by REAL treatment effect!!! UPD: USING ROBUST RANKING METHOD (IN CASE OF EQUAL VALUES OF SOME VARIABLE FOR SEVERAL/ALL OBSERVATION)"
   ]
  },
  {
   "cell_type": "code",
   "execution_count": 46,
   "id": "0300b44b",
   "metadata": {},
   "outputs": [],
   "source": [
    "df_B = df_B.sort_values('s_0(X)')\n",
    "\n",
    "for i in range(5):\n",
    "    name = 'Group_{}_REAL'.format(i + 1)\n",
    "    zero_vector = np.zeros(df_B.shape[0])\n",
    "    # needed quantile gets 1!!\n",
    "    start_index = int(round(i * df_B.shape[0] / 5))\n",
    "    end_index = int(round((i + 1) * df_B.shape[0] / 5))\n",
    "    zero_vector[start_index: end_index] = 1\n",
    "    df_B[name] = zero_vector\n",
    "    \n",
    "df_B = df_B.sort_index()"
   ]
  },
  {
   "cell_type": "markdown",
   "id": "5c59c610",
   "metadata": {},
   "source": [
    "## ctrl + / to comment/uncomment required lines of code!!!!!"
   ]
  },
  {
   "cell_type": "markdown",
   "id": "cf86aa42",
   "metadata": {},
   "source": [
    "## Old, non-robust method!!!!"
   ]
  },
  {
   "cell_type": "code",
   "execution_count": 47,
   "id": "473f4fa6",
   "metadata": {},
   "outputs": [],
   "source": [
    "# if taking equal intervals: boundaries = np.linspace(np.min(df_B['S(X)']), np.max(df_B['S(X)']), 6)\n",
    "# equal size of data\n",
    "\n",
    "## ctrl + / to comment/uncomment required lines of code!!!!!\n",
    "# boundaries = [np.percentile(df_B['s_0(X)'], i) for i in np.linspace(0, 100, 6)]\n",
    "# for i in range(5):\n",
    "#     name = 'Group_{}_REAL'.format(i + 1)\n",
    "#     # to include min value in the first group!!!\n",
    "#     if i == 0:\n",
    "#         df_B[name] = ((df_B['s_0(X)'] >= boundaries[i]) & (df_B['s_0(X)'] <= boundaries[i + 1])).astype('int')\n",
    "#     else:\n",
    "#         df_B[name] = ((df_B['s_0(X)'] > boundaries[i]) & (df_B['s_0(X)'] <= boundaries[i + 1])).astype('int')"
   ]
  },
  {
   "cell_type": "code",
   "execution_count": 48,
   "id": "1ba53ff1",
   "metadata": {},
   "outputs": [
    {
     "data": {
      "text/plain": [
       "Index(['x1', 'x2', 'x3', 'x4', 'x5', 'D', 'y', 'p', 's_0(X)', 'B(X)',\n",
       "       'E(Y|D=1)', 'S(X)', 'const', 'D_minus_p',\n",
       "       'D_minus_p_times_S(X)_minus_ES', 'omega(X)', 'Group_1', 'Group_2',\n",
       "       'Group_3', 'Group_4', 'Group_5', 'D_minus_p_Group_1',\n",
       "       'D_minus_p_Group_2', 'D_minus_p_Group_3', 'D_minus_p_Group_4',\n",
       "       'D_minus_p_Group_5', 'Group_1_REAL', 'Group_2_REAL', 'Group_3_REAL',\n",
       "       'Group_4_REAL', 'Group_5_REAL'],\n",
       "      dtype='object')"
      ]
     },
     "execution_count": 48,
     "metadata": {},
     "output_type": "execute_result"
    }
   ],
   "source": [
    "df_B.columns"
   ]
  },
  {
   "cell_type": "markdown",
   "id": "d31687a7",
   "metadata": {},
   "source": [
    "### REAL GATES"
   ]
  },
  {
   "cell_type": "code",
   "execution_count": 49,
   "id": "a2553b1c",
   "metadata": {},
   "outputs": [],
   "source": [
    "REAL_GATES = np.zeros(5)\n",
    "SE_REAL_GATES = np.zeros(5)\n",
    "for num, i in enumerate(['Group_1_REAL', 'Group_2_REAL', 'Group_3_REAL', 'Group_4_REAL', 'Group_5_REAL']):\n",
    "    REAL_GATES[num] = df_B[df_B[i] == 1]['s_0(X)'].mean()\n",
    "    SE_REAL_GATES[num] = df_B[df_B[i] == 1]['s_0(X)'].std() / np.sqrt(df_B[df_B[i] == 1].shape[0])"
   ]
  },
  {
   "cell_type": "code",
   "execution_count": 50,
   "id": "1ea45ad0",
   "metadata": {},
   "outputs": [],
   "source": [
    "# simult CI for the GATES in REAL groups!!!\n",
    "simult_CI_L_REAL_GATES = REAL_GATES - crit_val_simult * SE_REAL_GATES\n",
    "simult_CI_U_REAL_GATES = REAL_GATES + crit_val_simult * SE_REAL_GATES"
   ]
  },
  {
   "cell_type": "markdown",
   "id": "5bbc6aa4",
   "metadata": {},
   "source": [
    "## 97.5% SCI"
   ]
  },
  {
   "cell_type": "code",
   "execution_count": 51,
   "id": "d4db23c8",
   "metadata": {},
   "outputs": [
    {
     "data": {
      "text/html": [
       "<div>\n",
       "<style scoped>\n",
       "    .dataframe tbody tr th:only-of-type {\n",
       "        vertical-align: middle;\n",
       "    }\n",
       "\n",
       "    .dataframe tbody tr th {\n",
       "        vertical-align: top;\n",
       "    }\n",
       "\n",
       "    .dataframe thead th {\n",
       "        text-align: right;\n",
       "    }\n",
       "</style>\n",
       "<table border=\"1\" class=\"dataframe\">\n",
       "  <thead>\n",
       "    <tr style=\"text-align: right;\">\n",
       "      <th></th>\n",
       "      <th>GATES_estimated</th>\n",
       "      <th>SCI_L_estimated</th>\n",
       "      <th>SCI_U_estimated</th>\n",
       "      <th>GATES_real</th>\n",
       "      <th>SCI_L_real</th>\n",
       "      <th>SCI_U_real</th>\n",
       "    </tr>\n",
       "    <tr>\n",
       "      <th>Group</th>\n",
       "      <th></th>\n",
       "      <th></th>\n",
       "      <th></th>\n",
       "      <th></th>\n",
       "      <th></th>\n",
       "      <th></th>\n",
       "    </tr>\n",
       "  </thead>\n",
       "  <tbody>\n",
       "    <tr>\n",
       "      <th>1</th>\n",
       "      <td>63.568705</td>\n",
       "      <td>56.809737</td>\n",
       "      <td>70.327673</td>\n",
       "      <td>56.252177</td>\n",
       "      <td>55.189662</td>\n",
       "      <td>57.314692</td>\n",
       "    </tr>\n",
       "    <tr>\n",
       "      <th>2</th>\n",
       "      <td>80.366224</td>\n",
       "      <td>75.030898</td>\n",
       "      <td>85.701550</td>\n",
       "      <td>85.658473</td>\n",
       "      <td>84.945740</td>\n",
       "      <td>86.371205</td>\n",
       "    </tr>\n",
       "    <tr>\n",
       "      <th>3</th>\n",
       "      <td>114.889238</td>\n",
       "      <td>110.200217</td>\n",
       "      <td>119.578259</td>\n",
       "      <td>116.642693</td>\n",
       "      <td>115.695425</td>\n",
       "      <td>117.589961</td>\n",
       "    </tr>\n",
       "    <tr>\n",
       "      <th>4</th>\n",
       "      <td>163.828358</td>\n",
       "      <td>157.657705</td>\n",
       "      <td>169.999012</td>\n",
       "      <td>162.313782</td>\n",
       "      <td>160.974245</td>\n",
       "      <td>163.653319</td>\n",
       "    </tr>\n",
       "    <tr>\n",
       "      <th>5</th>\n",
       "      <td>219.391722</td>\n",
       "      <td>210.167483</td>\n",
       "      <td>228.615960</td>\n",
       "      <td>225.254900</td>\n",
       "      <td>223.144985</td>\n",
       "      <td>227.364816</td>\n",
       "    </tr>\n",
       "  </tbody>\n",
       "</table>\n",
       "</div>"
      ],
      "text/plain": [
       "       GATES_estimated  SCI_L_estimated  SCI_U_estimated  GATES_real  \\\n",
       "Group                                                                  \n",
       "1            63.568705        56.809737        70.327673   56.252177   \n",
       "2            80.366224        75.030898        85.701550   85.658473   \n",
       "3           114.889238       110.200217       119.578259  116.642693   \n",
       "4           163.828358       157.657705       169.999012  162.313782   \n",
       "5           219.391722       210.167483       228.615960  225.254900   \n",
       "\n",
       "       SCI_L_real  SCI_U_real  \n",
       "Group                          \n",
       "1       55.189662   57.314692  \n",
       "2       84.945740   86.371205  \n",
       "3      115.695425  117.589961  \n",
       "4      160.974245  163.653319  \n",
       "5      223.144985  227.364816  "
      ]
     },
     "execution_count": 51,
     "metadata": {},
     "output_type": "execute_result"
    }
   ],
   "source": [
    "GATES_table = pd.DataFrame({'Group': range(1, 6), 'GATES_estimated': EST_GATES, 'SCI_L_estimated': simult_CI_L_EST_GATES, \n",
    "              'SCI_U_estimated': simult_CI_U_EST_GATES, 'GATES_real': REAL_GATES,\n",
    "              'SCI_L_real': simult_CI_L_REAL_GATES, 'SCI_U_real': simult_CI_U_REAL_GATES}).set_index('Group')\n",
    "GATES_table"
   ]
  },
  {
   "cell_type": "markdown",
   "id": "ac61e91c",
   "metadata": {},
   "source": [
    "# And for CLAN compare with actual group characteristics, so split data onto 5 groups BY REAL s_0 AND COMPARE ESTIMATES with ones, if split by S(X)!!!"
   ]
  },
  {
   "cell_type": "code",
   "execution_count": 52,
   "id": "9d3f0062",
   "metadata": {},
   "outputs": [
    {
     "data": {
      "text/plain": [
       "['x1', 'x2', 'x3', 'x4', 'x5']"
      ]
     },
     "execution_count": 52,
     "metadata": {},
     "output_type": "execute_result"
    }
   ],
   "source": [
    "x_cols = []\n",
    "for i in df.columns:\n",
    "    regexp = re.compile(r'^x\\d+$')\n",
    "    if regexp.search(i):\n",
    "        x_cols.append(i)\n",
    "x_cols"
   ]
  },
  {
   "cell_type": "markdown",
   "id": "9db38e56",
   "metadata": {},
   "source": [
    "# 97.5% SCI everywhere below!!!!"
   ]
  },
  {
   "cell_type": "markdown",
   "id": "52c61beb",
   "metadata": {},
   "source": [
    "## Group 1"
   ]
  },
  {
   "cell_type": "code",
   "execution_count": 59,
   "id": "d30cd395",
   "metadata": {},
   "outputs": [
    {
     "data": {
      "text/html": [
       "<div>\n",
       "<style scoped>\n",
       "    .dataframe tbody tr th:only-of-type {\n",
       "        vertical-align: middle;\n",
       "    }\n",
       "\n",
       "    .dataframe tbody tr th {\n",
       "        vertical-align: top;\n",
       "    }\n",
       "\n",
       "    .dataframe thead th {\n",
       "        text-align: right;\n",
       "    }\n",
       "</style>\n",
       "<table border=\"1\" class=\"dataframe\">\n",
       "  <thead>\n",
       "    <tr style=\"text-align: right;\">\n",
       "      <th></th>\n",
       "      <th>G1_est</th>\n",
       "      <th>G1_est_L</th>\n",
       "      <th>G1_est_U</th>\n",
       "      <th>G1_real</th>\n",
       "      <th>G1_real_L</th>\n",
       "      <th>G1_real_U</th>\n",
       "    </tr>\n",
       "  </thead>\n",
       "  <tbody>\n",
       "    <tr>\n",
       "      <th>GATES</th>\n",
       "      <td>63.568705</td>\n",
       "      <td>56.809737</td>\n",
       "      <td>70.327673</td>\n",
       "      <td>56.252177</td>\n",
       "      <td>55.189662</td>\n",
       "      <td>57.314692</td>\n",
       "    </tr>\n",
       "    <tr>\n",
       "      <th>x1</th>\n",
       "      <td>1.027426</td>\n",
       "      <td>0.927311</td>\n",
       "      <td>1.127540</td>\n",
       "      <td>1.066874</td>\n",
       "      <td>0.962227</td>\n",
       "      <td>1.171521</td>\n",
       "    </tr>\n",
       "    <tr>\n",
       "      <th>x2</th>\n",
       "      <td>-2.346409</td>\n",
       "      <td>-2.556521</td>\n",
       "      <td>-2.136298</td>\n",
       "      <td>-2.015983</td>\n",
       "      <td>-2.225738</td>\n",
       "      <td>-1.806228</td>\n",
       "    </tr>\n",
       "    <tr>\n",
       "      <th>x3</th>\n",
       "      <td>10.358217</td>\n",
       "      <td>10.217684</td>\n",
       "      <td>10.498750</td>\n",
       "      <td>10.338736</td>\n",
       "      <td>10.199499</td>\n",
       "      <td>10.477972</td>\n",
       "    </tr>\n",
       "    <tr>\n",
       "      <th>x4</th>\n",
       "      <td>15.996652</td>\n",
       "      <td>15.752251</td>\n",
       "      <td>16.241054</td>\n",
       "      <td>15.883700</td>\n",
       "      <td>15.634167</td>\n",
       "      <td>16.133232</td>\n",
       "    </tr>\n",
       "    <tr>\n",
       "      <th>x5</th>\n",
       "      <td>1.167182</td>\n",
       "      <td>0.704145</td>\n",
       "      <td>1.630219</td>\n",
       "      <td>1.101246</td>\n",
       "      <td>0.639517</td>\n",
       "      <td>1.562976</td>\n",
       "    </tr>\n",
       "  </tbody>\n",
       "</table>\n",
       "</div>"
      ],
      "text/plain": [
       "          G1_est   G1_est_L   G1_est_U    G1_real  G1_real_L  G1_real_U\n",
       "GATES  63.568705  56.809737  70.327673  56.252177  55.189662  57.314692\n",
       "x1      1.027426   0.927311   1.127540   1.066874   0.962227   1.171521\n",
       "x2     -2.346409  -2.556521  -2.136298  -2.015983  -2.225738  -1.806228\n",
       "x3     10.358217  10.217684  10.498750  10.338736  10.199499  10.477972\n",
       "x4     15.996652  15.752251  16.241054  15.883700  15.634167  16.133232\n",
       "x5      1.167182   0.704145   1.630219   1.101246   0.639517   1.562976"
      ]
     },
     "execution_count": 59,
     "metadata": {},
     "output_type": "execute_result"
    }
   ],
   "source": [
    "# to Add GATES params\n",
    "CLAN_cols = ['GATES'] + x_cols\n",
    "num_rows_CLAN = len(CLAN_cols) \n",
    "\n",
    "G1_est = np.zeros(num_rows_CLAN)\n",
    "SCI_L_G1_est = np.zeros(num_rows_CLAN)\n",
    "SCI_U_G1_est = np.zeros(num_rows_CLAN)\n",
    "G1_real = np.zeros(num_rows_CLAN)\n",
    "SCI_L_G1_real = np.zeros(num_rows_CLAN)\n",
    "SCI_U_G1_real = np.zeros(num_rows_CLAN)\n",
    "# matrix with CLAN data\n",
    "CLAN_data_G1 = np.zeros((num_rows_CLAN, 6))\n",
    "# GATES\n",
    "CLAN_data_G1[0] = GATES_table.iloc[0]\n",
    "# Other vars (X), filling by column\n",
    "for num, i in enumerate(['Group_1', 'Group_1_REAL']):\n",
    "    # point estimate\n",
    "    CLAN_data_G1[1:, num*3] = df_B[df_B[i] == 1][x_cols].mean()\n",
    "    # Lower SCI\n",
    "    CLAN_data_G1[1:, num*3 + 1] = df_B[df_B[i] == 1][x_cols].mean() -\\\n",
    "                            crit_val_simult * df_B[df_B[i] == 1][x_cols].std() / np.sqrt(df_B[df_B[i] == 1].shape[0])\n",
    "    # Upper SCI\n",
    "    CLAN_data_G1[1:, num*3 + 2] = df_B[df_B[i] == 1][x_cols].mean() +\\\n",
    "                            crit_val_simult * df_B[df_B[i] == 1][x_cols].std() / np.sqrt(df_B[df_B[i] == 1].shape[0])\n",
    "\n",
    "\n",
    "df_group1_CLAN = pd.DataFrame(CLAN_data_G1)\n",
    "df_group1_CLAN.columns = ['G1_est', 'G1_est_L', 'G1_est_U', 'G1_real', 'G1_real_L', 'G1_real_U']\n",
    "df_group1_CLAN.index = CLAN_cols\n",
    "\n",
    "df_group1_CLAN"
   ]
  },
  {
   "cell_type": "markdown",
   "id": "845fb935",
   "metadata": {},
   "source": [
    "## Group 5"
   ]
  },
  {
   "cell_type": "code",
   "execution_count": 60,
   "id": "6f7301a7",
   "metadata": {},
   "outputs": [
    {
     "data": {
      "text/html": [
       "<div>\n",
       "<style scoped>\n",
       "    .dataframe tbody tr th:only-of-type {\n",
       "        vertical-align: middle;\n",
       "    }\n",
       "\n",
       "    .dataframe tbody tr th {\n",
       "        vertical-align: top;\n",
       "    }\n",
       "\n",
       "    .dataframe thead th {\n",
       "        text-align: right;\n",
       "    }\n",
       "</style>\n",
       "<table border=\"1\" class=\"dataframe\">\n",
       "  <thead>\n",
       "    <tr style=\"text-align: right;\">\n",
       "      <th></th>\n",
       "      <th>G5_est</th>\n",
       "      <th>G5_est_L</th>\n",
       "      <th>G5_est_U</th>\n",
       "      <th>G5_real</th>\n",
       "      <th>G5_real_L</th>\n",
       "      <th>G5_real_U</th>\n",
       "    </tr>\n",
       "  </thead>\n",
       "  <tbody>\n",
       "    <tr>\n",
       "      <th>GATES</th>\n",
       "      <td>219.391722</td>\n",
       "      <td>210.167483</td>\n",
       "      <td>228.615960</td>\n",
       "      <td>225.254900</td>\n",
       "      <td>223.144985</td>\n",
       "      <td>227.364816</td>\n",
       "    </tr>\n",
       "    <tr>\n",
       "      <th>x1</th>\n",
       "      <td>0.857023</td>\n",
       "      <td>0.754140</td>\n",
       "      <td>0.959906</td>\n",
       "      <td>0.913739</td>\n",
       "      <td>0.809962</td>\n",
       "      <td>1.017516</td>\n",
       "    </tr>\n",
       "    <tr>\n",
       "      <th>x2</th>\n",
       "      <td>-1.978945</td>\n",
       "      <td>-2.181911</td>\n",
       "      <td>-1.775980</td>\n",
       "      <td>-1.913436</td>\n",
       "      <td>-2.120681</td>\n",
       "      <td>-1.706191</td>\n",
       "    </tr>\n",
       "    <tr>\n",
       "      <th>x3</th>\n",
       "      <td>11.289729</td>\n",
       "      <td>11.137086</td>\n",
       "      <td>11.442372</td>\n",
       "      <td>11.306179</td>\n",
       "      <td>11.154319</td>\n",
       "      <td>11.458038</td>\n",
       "    </tr>\n",
       "    <tr>\n",
       "      <th>x4</th>\n",
       "      <td>15.145894</td>\n",
       "      <td>14.041199</td>\n",
       "      <td>16.250589</td>\n",
       "      <td>15.200644</td>\n",
       "      <td>14.096694</td>\n",
       "      <td>16.304593</td>\n",
       "    </tr>\n",
       "    <tr>\n",
       "      <th>x5</th>\n",
       "      <td>1.163853</td>\n",
       "      <td>0.692851</td>\n",
       "      <td>1.634855</td>\n",
       "      <td>0.991275</td>\n",
       "      <td>0.518686</td>\n",
       "      <td>1.463865</td>\n",
       "    </tr>\n",
       "  </tbody>\n",
       "</table>\n",
       "</div>"
      ],
      "text/plain": [
       "           G5_est    G5_est_L    G5_est_U     G5_real   G5_real_L   G5_real_U\n",
       "GATES  219.391722  210.167483  228.615960  225.254900  223.144985  227.364816\n",
       "x1       0.857023    0.754140    0.959906    0.913739    0.809962    1.017516\n",
       "x2      -1.978945   -2.181911   -1.775980   -1.913436   -2.120681   -1.706191\n",
       "x3      11.289729   11.137086   11.442372   11.306179   11.154319   11.458038\n",
       "x4      15.145894   14.041199   16.250589   15.200644   14.096694   16.304593\n",
       "x5       1.163853    0.692851    1.634855    0.991275    0.518686    1.463865"
      ]
     },
     "execution_count": 60,
     "metadata": {},
     "output_type": "execute_result"
    }
   ],
   "source": [
    "# to Add GATES params\n",
    "CLAN_cols = ['GATES'] + x_cols\n",
    "num_rows_CLAN = len(CLAN_cols) \n",
    "\n",
    "G5_est = np.zeros(num_rows_CLAN)\n",
    "SCI_L_G5_est = np.zeros(num_rows_CLAN)\n",
    "SCI_U_G5_est = np.zeros(num_rows_CLAN)\n",
    "G5_real = np.zeros(num_rows_CLAN)\n",
    "SCI_L_G5_real = np.zeros(num_rows_CLAN)\n",
    "SCI_U_G5_real = np.zeros(num_rows_CLAN)\n",
    "# matrix with CLAN data\n",
    "CLAN_data_G5 = np.zeros((num_rows_CLAN, 6))\n",
    "# GATES\n",
    "CLAN_data_G5[0] = GATES_table.iloc[4]\n",
    "# Other vars (X), filling by column\n",
    "for num, i in enumerate(['Group_5', 'Group_5_REAL']):\n",
    "    # point estimate\n",
    "    CLAN_data_G5[1:, num*3] = df_B[df_B[i] == 1][x_cols].mean()\n",
    "    # Lower SCI\n",
    "    CLAN_data_G5[1:, num*3 + 1] = df_B[df_B[i] == 1][x_cols].mean() -\\\n",
    "                            crit_val_simult * df_B[df_B[i] == 1][x_cols].std() / np.sqrt(df_B[df_B[i] == 1].shape[0])\n",
    "    # Upper SCI\n",
    "    CLAN_data_G5[1:, num*3 + 2] = df_B[df_B[i] == 1][x_cols].mean() +\\\n",
    "                            crit_val_simult * df_B[df_B[i] == 1][x_cols].std() / np.sqrt(df_B[df_B[i] == 1].shape[0])\n",
    "\n",
    "\n",
    "df_group5_CLAN = pd.DataFrame(CLAN_data_G5)\n",
    "df_group5_CLAN.columns = ['G5_est', 'G5_est_L', 'G5_est_U', 'G5_real', 'G5_real_L', 'G5_real_U']\n",
    "df_group5_CLAN.index = CLAN_cols\n",
    "\n",
    "df_group5_CLAN"
   ]
  },
  {
   "cell_type": "markdown",
   "id": "feda4159",
   "metadata": {},
   "source": [
    "## Group 5 - Group 1 \n",
    "## IN SCI DIVIDING BY SQRT OF NUMBER OF GROUP 5 OBSERVATIONS, ASSUMING THAT THE NUMBER OF OBSERVATIONS IN FIRST AND FIFTH GROUP IS THE SAME!!!!"
   ]
  },
  {
   "cell_type": "code",
   "execution_count": 61,
   "id": "8f1d7ad5",
   "metadata": {},
   "outputs": [
    {
     "data": {
      "text/html": [
       "<div>\n",
       "<style scoped>\n",
       "    .dataframe tbody tr th:only-of-type {\n",
       "        vertical-align: middle;\n",
       "    }\n",
       "\n",
       "    .dataframe tbody tr th {\n",
       "        vertical-align: top;\n",
       "    }\n",
       "\n",
       "    .dataframe thead th {\n",
       "        text-align: right;\n",
       "    }\n",
       "</style>\n",
       "<table border=\"1\" class=\"dataframe\">\n",
       "  <thead>\n",
       "    <tr style=\"text-align: right;\">\n",
       "      <th></th>\n",
       "      <th>G5_minus_G1_est</th>\n",
       "      <th>G5_minus_G1_est_L</th>\n",
       "      <th>G5_minus_G1_est_U</th>\n",
       "      <th>G5_minus_G1_real</th>\n",
       "      <th>G5_minus_G1_real_L</th>\n",
       "      <th>G5_minus_G1_real_U</th>\n",
       "    </tr>\n",
       "  </thead>\n",
       "  <tbody>\n",
       "    <tr>\n",
       "      <th>GATES</th>\n",
       "      <td>155.823016</td>\n",
       "      <td>144.387535</td>\n",
       "      <td>167.258498</td>\n",
       "      <td>169.002723</td>\n",
       "      <td>166.640377</td>\n",
       "      <td>171.365070</td>\n",
       "    </tr>\n",
       "    <tr>\n",
       "      <th>x1</th>\n",
       "      <td>-0.170403</td>\n",
       "      <td>-0.313957</td>\n",
       "      <td>-0.026849</td>\n",
       "      <td>-0.153135</td>\n",
       "      <td>-0.300514</td>\n",
       "      <td>-0.005755</td>\n",
       "    </tr>\n",
       "    <tr>\n",
       "      <th>x2</th>\n",
       "      <td>0.367464</td>\n",
       "      <td>0.075331</td>\n",
       "      <td>0.659597</td>\n",
       "      <td>0.102547</td>\n",
       "      <td>-0.192322</td>\n",
       "      <td>0.397415</td>\n",
       "    </tr>\n",
       "    <tr>\n",
       "      <th>x3</th>\n",
       "      <td>0.931512</td>\n",
       "      <td>0.724028</td>\n",
       "      <td>1.138996</td>\n",
       "      <td>0.967443</td>\n",
       "      <td>0.761413</td>\n",
       "      <td>1.173472</td>\n",
       "    </tr>\n",
       "    <tr>\n",
       "      <th>x4</th>\n",
       "      <td>-0.850758</td>\n",
       "      <td>-1.982166</td>\n",
       "      <td>0.280649</td>\n",
       "      <td>-0.683056</td>\n",
       "      <td>-1.814856</td>\n",
       "      <td>0.448744</td>\n",
       "    </tr>\n",
       "    <tr>\n",
       "      <th>x5</th>\n",
       "      <td>-0.003329</td>\n",
       "      <td>-0.663818</td>\n",
       "      <td>0.657160</td>\n",
       "      <td>-0.109971</td>\n",
       "      <td>-0.770679</td>\n",
       "      <td>0.550737</td>\n",
       "    </tr>\n",
       "  </tbody>\n",
       "</table>\n",
       "</div>"
      ],
      "text/plain": [
       "       G5_minus_G1_est  G5_minus_G1_est_L  G5_minus_G1_est_U  \\\n",
       "GATES       155.823016         144.387535         167.258498   \n",
       "x1           -0.170403          -0.313957          -0.026849   \n",
       "x2            0.367464           0.075331           0.659597   \n",
       "x3            0.931512           0.724028           1.138996   \n",
       "x4           -0.850758          -1.982166           0.280649   \n",
       "x5           -0.003329          -0.663818           0.657160   \n",
       "\n",
       "       G5_minus_G1_real  G5_minus_G1_real_L  G5_minus_G1_real_U  \n",
       "GATES        169.002723          166.640377          171.365070  \n",
       "x1            -0.153135           -0.300514           -0.005755  \n",
       "x2             0.102547           -0.192322            0.397415  \n",
       "x3             0.967443            0.761413            1.173472  \n",
       "x4            -0.683056           -1.814856            0.448744  \n",
       "x5            -0.109971           -0.770679            0.550737  "
      ]
     },
     "execution_count": 61,
     "metadata": {},
     "output_type": "execute_result"
    }
   ],
   "source": [
    "# to Add GATES params\n",
    "CLAN_cols = ['GATES'] + x_cols\n",
    "num_rows_CLAN = len(CLAN_cols) \n",
    "\n",
    "G5_minus_G1_est = np.zeros(num_rows_CLAN)\n",
    "SCI_L_G5_minus_G1_est = np.zeros(num_rows_CLAN)\n",
    "SCI_U_G5_minus_G1_est = np.zeros(num_rows_CLAN)\n",
    "G5_minus_G1_real = np.zeros(num_rows_CLAN)\n",
    "SCI_L_G5_minus_G1_real = np.zeros(num_rows_CLAN)\n",
    "SCI_U_G5_minus_G1_real = np.zeros(num_rows_CLAN)\n",
    "# matrix with CLAN data\n",
    "CLAN_data_G5_minus_G1 = np.zeros((num_rows_CLAN, 6))\n",
    "## GATES (real and estimated simultaneously)\n",
    "# point estimates\n",
    "CLAN_data_G5_minus_G1[0, [0, 3]] = np.array(GATES_table.iloc[4, [0, 3]]) - np.array(GATES_table.iloc[0, [0, 3]])\n",
    "SCI_radius_G5_minus_G1_GATES = np.sqrt((np.array(GATES_table.iloc[4, [0, 3]]) - np.array(GATES_table.iloc[4, [1, 4]])) ** 2 +\\\n",
    "                                       (np.array(GATES_table.iloc[0, [0, 3]]) - np.array(GATES_table.iloc[0, [1, 4]])) ** 2)\n",
    "# SCI L\n",
    "CLAN_data_G5_minus_G1[0, [1, 4]] = np.array(GATES_table.iloc[4, [0, 3]]) - np.array(GATES_table.iloc[0, [0, 3]]) -\\\n",
    "                                        SCI_radius_G5_minus_G1_GATES\n",
    "# SCI U\n",
    "CLAN_data_G5_minus_G1[0, [2, 5]] = np.array(GATES_table.iloc[4, [0, 3]]) - np.array(GATES_table.iloc[0, [0, 3]]) +\\\n",
    "                                        SCI_radius_G5_minus_G1_GATES\n",
    "\n",
    "## Other vars (X), filling by column\n",
    "for num, i in enumerate([['Group_5', 'Group_1'], ['Group_5_REAL', 'Group_1_REAL']]):\n",
    "    G5_var = i[0]\n",
    "    G1_var = i[1]\n",
    "    # point estimate\n",
    "    CLAN_data_G5_minus_G1[1:, num*3] = df_B[df_B[G5_var] == 1][x_cols].mean() - df_B[df_B[G1_var] == 1][x_cols].mean()\n",
    "    # Lower SCI: DIVIDING BY SQRT OF NUMBER OF GROUP 5 OBSERVATIONS, ASSUMING THAT THE NUMBER OF OBSERVATIONS IN FIRST AND \n",
    "        # FIFTH GROUP IS THE SAME!!!!\n",
    "    CLAN_data_G5_minus_G1[1:, num*3 + 1] = df_B[df_B[G5_var] == 1][x_cols].mean() - df_B[df_B[G1_var] == 1][x_cols].mean() -\\\n",
    "                            (df_B[df_B[G5_var] == 1][x_cols].var() + df_B[df_B[G1_var] == 1][x_cols].var()) ** 0.5 /\\\n",
    "                            np.sqrt(df_B[df_B[G5_var] == 1].shape[0]) * crit_val_simult\n",
    "    # Upper SCI\n",
    "    CLAN_data_G5_minus_G1[1:, num*3 + 2] = df_B[df_B[G5_var] == 1][x_cols].mean() - df_B[df_B[G1_var] == 1][x_cols].mean() +\\\n",
    "                            (df_B[df_B[G5_var] == 1][x_cols].var() + df_B[df_B[G1_var] == 1][x_cols].var()) ** 0.5 /\\\n",
    "                            np.sqrt(df_B[df_B[G5_var] == 1].shape[0]) * crit_val_simult\n",
    "\n",
    "\n",
    "df_G5_minus_G1_CLAN = pd.DataFrame(CLAN_data_G5_minus_G1)\n",
    "df_G5_minus_G1_CLAN.columns = ['G5_minus_G1_est', 'G5_minus_G1_est_L', \n",
    "                               'G5_minus_G1_est_U', 'G5_minus_G1_real', \n",
    "                               'G5_minus_G1_real_L', 'G5_minus_G1_real_U']\n",
    "df_G5_minus_G1_CLAN.index = CLAN_cols\n",
    "\n",
    "df_G5_minus_G1_CLAN"
   ]
  },
  {
   "cell_type": "code",
   "execution_count": 56,
   "id": "f8ab99d8",
   "metadata": {},
   "outputs": [
    {
     "data": {
      "text/plain": [
       "SCI_L_estimated    9.224239\n",
       "SCI_L_real         2.109915\n",
       "Name: 5, dtype: float64"
      ]
     },
     "execution_count": 56,
     "metadata": {},
     "output_type": "execute_result"
    }
   ],
   "source": [
    "np.array(GATES_table.iloc[4, [0, 3]]) - GATES_table.iloc[4, [1, 4]]"
   ]
  },
  {
   "cell_type": "code",
   "execution_count": 57,
   "id": "17ed709e",
   "metadata": {},
   "outputs": [],
   "source": [
    "G5_est = np.zeros(num_rows_CLAN)\n",
    "SCI_L_G5_est = np.zeros(num_rows_CLAN)\n",
    "SCI_U_G5_est = np.zeros(num_rows_CLAN)\n",
    "G5_minus_G1_est = np.zeros(num_rows_CLAN)\n",
    "SCI_L_G5_minus_G1_est = np.zeros(num_rows_CLAN)\n",
    "SCI_U_G5_minus_G1_est = np.zeros(num_rows_CLAN)"
   ]
  }
 ],
 "metadata": {
  "kernelspec": {
   "display_name": "Python 3",
   "language": "python",
   "name": "python3"
  },
  "language_info": {
   "codemirror_mode": {
    "name": "ipython",
    "version": 3
   },
   "file_extension": ".py",
   "mimetype": "text/x-python",
   "name": "python",
   "nbconvert_exporter": "python",
   "pygments_lexer": "ipython3",
   "version": "3.8.8"
  }
 },
 "nbformat": 4,
 "nbformat_minor": 5
}
