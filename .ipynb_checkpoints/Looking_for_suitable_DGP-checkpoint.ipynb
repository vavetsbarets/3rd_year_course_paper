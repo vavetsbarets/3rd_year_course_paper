{
 "cells": [
  {
   "cell_type": "code",
   "execution_count": 338,
   "id": "29a823b2",
   "metadata": {},
   "outputs": [],
   "source": [
    "import pandas as pd\n",
    "import numpy as np\n",
    "import random\n",
    "import matplotlib.pyplot as plt\n",
    "import scipy\n",
    "import re\n",
    "import seaborn as sns\n",
    "import matplotlib.pyplot as plt\n",
    "import statsmodels.api as sm\n",
    "from tqdm import tqdm\n",
    "from sklearn.preprocessing import MinMaxScaler"
   ]
  },
  {
   "cell_type": "code",
   "execution_count": 339,
   "id": "aaec5ca4",
   "metadata": {},
   "outputs": [],
   "source": [
    "# importing beta_2 function from .py file with functions!!!!\n",
    "from functions_realisation_of_Chernozhukov_paper_with_only_ideas_needed_for_my_paper import beta_2"
   ]
  },
  {
   "cell_type": "markdown",
   "id": "72011da3",
   "metadata": {},
   "source": [
    "## To test my idea, I want to begin with DGP with beta_2 not close to 0 and not close to 1 with default rf or other ML models (LightGBM, rf, ElasticNet)!!!!"
   ]
  },
  {
   "cell_type": "markdown",
   "id": "955951ee",
   "metadata": {},
   "source": [
    "# Also check comment 6.1 in thoughts....docx file!!!! There estimate B(X) and S(X), but I estimate B(X) and E(Y|D=1) and then subtract one from another. Am I doing correct, or I should somehow estimate S(X) directly???????\n",
    "# Anyway, in terms of hyperparameters, both me and them tune hyperparameters in two places, but they estimate and tune B and S, and I estimate and tune B and E(Y|D = 1)!!! Ask Nikita!!!!!!!"
   ]
  },
  {
   "cell_type": "code",
   "execution_count": null,
   "id": "3cfb6517",
   "metadata": {},
   "outputs": [],
   "source": []
  },
  {
   "cell_type": "markdown",
   "id": "78e185f3",
   "metadata": {},
   "source": [
    "# Continue with creating 'needed' DGP tomorrow!!!!!!!"
   ]
  },
  {
   "cell_type": "markdown",
   "id": "2ae637ab",
   "metadata": {},
   "source": [
    "## DGP"
   ]
  },
  {
   "cell_type": "code",
   "execution_count": 374,
   "id": "04eb014d",
   "metadata": {},
   "outputs": [],
   "source": [
    "np.random.seed(100)\n",
    "# empty df\n",
    "df = pd.DataFrame()\n",
    "# NUMBER OF OBSERVATIONS!!!!!!!!!!!!!!!!!!!!!!!!!!!!!!1\n",
    "obs = 4800\n",
    "# explanatory variables: X\n",
    "df['x1'] = np.random.uniform(-1, 3, obs)\n",
    "df['x2'] = np.random.uniform(-6, 2, obs)\n",
    "df['x3'] = np.random.uniform(8, 14, obs)\n",
    "k0, k1 = np.random.multivariate_normal([3, 5], [[1, 0.8], [0.8, 1]], obs).T\n",
    "df['x4'] = k0 * 3\n",
    "df['x5'] = k1 * 7\n",
    "k2, k3, k4 = np.random.multivariate_normal(np.array([-1, 0.3, 1.7]), np.array([[1, 0.4, 0.5], \n",
    "                                                                            [0.4, 1, 0.9], \n",
    "                                                                            [0.5, 0.9, 1]]), obs).T\n",
    "df['x6'] = k2 * 6\n",
    "df['x7'] = k2 * k3 - k4\n",
    "df['x8'] = np.sin(k4)\n",
    "\n",
    "k5, k6, k7 = np.random.multivariate_normal(np.array([-1, 0.3, 1.7]), np.array([[1, -0.4, -0.5], \n",
    "                                                                            [-0.4, 1, 0.9], \n",
    "                                                                            [-0.5, 0.9, 1]]), obs).T\n",
    "df['x9'] = k5\n",
    "df['x10'] = k6\n",
    "df['x11'] = k7\n",
    "df['x12'] = np.random.uniform(-10, 20, obs)\n",
    "\n",
    "df['x13'], k8, k9 = np.random.multivariate_normal(np.array([-1, 0.3, 1.7]), np.array([[1, -0.4, -0.5], \n",
    "                                                                                                    [-0.4, 1, 0.9], \n",
    "                                                                                                    [-0.5, 0.9, 1]]), obs).T\n",
    "\n",
    "df['x14'] = np.random.uniform(-6, 2, obs)\n",
    "df['x15'] = np.random.uniform(8, 14, obs)\n",
    "\n",
    "\n",
    "df['x16'], df['x17'], df['x18'] = np.random.multivariate_normal(np.array([-1, 0.3, 1.7]), np.array([[1, -0.1, -0.5], \n",
    "                                                                                                    [-0.1, 1, 0], \n",
    "                                                                                                    [-0.5, 0, 1]]), obs).T\n",
    "\n",
    "eps = np.random.normal(0, 16, obs)\n",
    "eps1 = np.random.normal(0, 16, obs)\n",
    "# b(X) = Y(0)\n",
    "df['b_0'] = 4 + 6*df.x1 + 8*df.x2 - 9*df.x1*df.x2 + 3 * np.log(df.x3) -\\\n",
    "        np.maximum(df.x4, 0.3) **(1/3) * df.x3 + np.exp(df['x7'] / 5) + np.maximum(0, df.x8) +\\\n",
    "        0.5 * (df.x7 - df.x8) * np.minimum(df.x6, -1) + np.minimum(df['x10'] - df['x11'] * (df['x9'] + df['x7']), df.x12) + eps\n",
    "\n",
    "# propensity score: p(D = 1 | X), bounded from 0 and 1\n",
    "df['p'] = (8 + df.x1 + df.x2 + df.x3 * 0.5) / 32\n",
    "# s(X) = Y(1) - Y(0)\n",
    "df['s_0(X)'] = np.maximum(0, df.x1) - np.log(10 + df.x2) + np.minimum(0, df.x1 * df.x2) +\\\n",
    "               (df.x4-16)**2 + 6 * df.x3 + df.x6 * df.x7 + 1 / np.maximum(0.5, df.x8) + df.x4 / np.maximum(0.2, df.x7) +\\\n",
    "                np.sin(df.x7) + ((df['x10'] - df['x11']) ** 2) / np.maximum(0.7, df.x8) ** 2 +\\\n",
    "                np.cos(df.x16 * df.x12 ** 2 - 1 / np.minimum(0.1, (k8 - k9)))  + eps1\n",
    "    \n",
    "#df['s_0(X)'] = 0\n",
    "# whether the treatment was assigned (D), given propensity score\n",
    "df['D'] = np.random.binomial(1, df.p)\n",
    "# CREATION OF Y:\n",
    "df['y'] = df.b_0 + df['s_0(X)'] * df.D"
   ]
  },
  {
   "cell_type": "markdown",
   "id": "6db93959",
   "metadata": {},
   "source": [
    "# set of default models"
   ]
  },
  {
   "cell_type": "code",
   "execution_count": 399,
   "id": "43bc22ae",
   "metadata": {},
   "outputs": [],
   "source": [
    "# rf\n",
    "from sklearn.ensemble import RandomForestRegressor\n",
    "rf0 = RandomForestRegressor()\n",
    "rf1 = RandomForestRegressor()\n",
    "\n",
    "# Elsstic net\n",
    "from sklearn.linear_model import ElasticNet\n",
    "elast0 = ElasticNet()\n",
    "elast1 = ElasticNet()\n",
    "\n",
    "# LightGBM\n",
    "from lightgbm import LGBMRegressor\n",
    "lgbm0 = LGBMRegressor()\n",
    "lgbm1 = LGBMRegressor()"
   ]
  },
  {
   "cell_type": "code",
   "execution_count": 400,
   "id": "4f8ef4bd",
   "metadata": {},
   "outputs": [
    {
     "data": {
      "text/plain": [
       "0.7872390986582151"
      ]
     },
     "execution_count": 400,
     "metadata": {},
     "output_type": "execute_result"
    }
   ],
   "source": [
    "Beta_2 = beta_2(df.copy(), rf0, rf1)\n",
    "Beta_2"
   ]
  },
  {
   "cell_type": "code",
   "execution_count": 401,
   "id": "cbee911b",
   "metadata": {},
   "outputs": [
    {
     "data": {
      "text/plain": [
       "11.62431456399214"
      ]
     },
     "execution_count": 401,
     "metadata": {},
     "output_type": "execute_result"
    }
   ],
   "source": [
    "Beta_2 = beta_2(df.copy(), elast0, elast1)\n",
    "Beta_2"
   ]
  },
  {
   "cell_type": "code",
   "execution_count": 402,
   "id": "e98537d3",
   "metadata": {},
   "outputs": [
    {
     "data": {
      "text/plain": [
       "0.8330372772993946"
      ]
     },
     "execution_count": 402,
     "metadata": {},
     "output_type": "execute_result"
    }
   ],
   "source": [
    "Beta_2 = beta_2(df.copy(), lgbm0, lgbm1)\n",
    "Beta_2"
   ]
  },
  {
   "cell_type": "markdown",
   "id": "1fe1a7f6",
   "metadata": {},
   "source": [
    "# Yeah, it's fine that beta_2 is higher than 1!!! ANY DIRECTION FROM 1 (BIGGER OR SMALLER) IS CONSIDERED AS NOISY ML ESTIMATE!!!!!"
   ]
  },
  {
   "cell_type": "markdown",
   "id": "2c910369",
   "metadata": {},
   "source": [
    "# Suitable is found with large number of observations, beta_2 is usually from 0.75 to 0.95, not 1 (not tuned, default models!!!!)"
   ]
  },
  {
   "cell_type": "code",
   "execution_count": null,
   "id": "876797d5",
   "metadata": {},
   "outputs": [],
   "source": []
  }
 ],
 "metadata": {
  "kernelspec": {
   "display_name": "Python 3",
   "language": "python",
   "name": "python3"
  },
  "language_info": {
   "codemirror_mode": {
    "name": "ipython",
    "version": 3
   },
   "file_extension": ".py",
   "mimetype": "text/x-python",
   "name": "python",
   "nbconvert_exporter": "python",
   "pygments_lexer": "ipython3",
   "version": "3.8.8"
  }
 },
 "nbformat": 4,
 "nbformat_minor": 5
}
